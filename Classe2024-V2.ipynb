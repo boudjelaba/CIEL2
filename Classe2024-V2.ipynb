{
 "cells": [
  {
   "cell_type": "markdown",
   "id": "545aa79d-7e6b-4d38-9c89-4ad853c71fb0",
   "metadata": {},
   "source": [
    "---\n",
    "\n",
    "## Classe en Python\n",
    "\n",
    "Pour définir une classe\n",
    "\n",
    "```python\n",
    "class NomDeLaClasse:\n",
    "    # Définition de la classe\n",
    "```"
   ]
  },
  {
   "cell_type": "markdown",
   "id": "3d832d88-963d-465e-bcae-1e83cbd5c5a3",
   "metadata": {},
   "source": [
    "- Un objet est une instance de classe\n",
    "    * La syntaxe pour créer un objet est\n",
    "\n",
    "```python\n",
    "nomObjet = NomDeLaClasse()\n",
    "```\n",
    "\n",
    "Un objet est une instance d'une classe, et il peut avoir des attributs (variables) et des méthodes (fonctions)."
   ]
  },
  {
   "cell_type": "markdown",
   "id": "6821ab08-a680-486e-946a-b17fced73f47",
   "metadata": {},
   "source": [
    "---\n",
    "La méthode `__repr__()` retourne la représentation imprimable de l’objet sous forme de chaîne. Elle renvoie par défaut le nom de la classe de l’objet et l’adresse de l’objet.\n",
    "\n",
    "Lorsque on imprime un objet en Python en utilisant la fonction `print()`, la méthode `__str__()` de l’objet est appelée. S’il n’est pas défini alors le `__str__()` renvoie la valeur de retour de la méthode `__repr__()`. C’est pourquoi lorsqu'on essaye d’imprimer un objet d’une classe définie par l’utilisateur à l’aide de la fonction `print()`, cela renvoie la valeur de retour de la méthode `__repr__()`.\n",
    "\n",
    "Par conséquent, on peut définir ou remplacer la méthode `__repr__()` pour imprimer le résumé d’un objet ou les valeurs souhaitées."
   ]
  },
  {
   "cell_type": "code",
   "execution_count": 56,
   "id": "6efcbc3c-ff19-4452-951c-1c144f6dbf18",
   "metadata": {},
   "outputs": [
    {
     "name": "stdout",
     "output_type": "stream",
     "text": [
      "<__main__.MaClasse object at 0x11d181190>\n"
     ]
    }
   ],
   "source": [
    "class MaClasse:\n",
    "    def __init__(self):\n",
    "        self.var1 = 10\n",
    "        self.var2 = \"Carnus\"\n",
    "\n",
    "A = MaClasse()\n",
    "print(A)"
   ]
  },
  {
   "cell_type": "code",
   "execution_count": 60,
   "id": "dc76b0e0-1320-4681-8fab-83af9e79e973",
   "metadata": {},
   "outputs": [
    {
     "name": "stdout",
     "output_type": "stream",
     "text": [
      "Un objet de la classe MaClasse\n",
      "Un objet de la classe MaClasse\n"
     ]
    }
   ],
   "source": [
    "class MaClasse:\n",
    "    def __init__(self):\n",
    "        self.var1 = 10\n",
    "        self.var2 = \"Carnus\"\n",
    "\n",
    "    def __repr__(self):\n",
    "        return \"Un objet de la classe MaClasse\"\n",
    "\n",
    "\n",
    "A = MaClasse()\n",
    "print(A)\n",
    "print(repr(A))"
   ]
  },
  {
   "cell_type": "markdown",
   "id": "d3be6f2e-48f6-4997-9f5e-ab164bcb3783",
   "metadata": {},
   "source": [
    "La méthode `__str__()` renvoie la version chaîne de l’objet en Python. Si un objet n’a pas de méthode `__str__()`, il renvoie la même valeur que la méthode `__repr__()`.\n",
    "\n",
    "On a vu dans l'exemple ci-dessus, dans le cas où la méthode `__str__()` n’est pas définie, la méthode `print()` imprime la représentation imprimable de l’objet en utilisant la méthode `__repr__()`."
   ]
  },
  {
   "cell_type": "code",
   "execution_count": 64,
   "id": "8cbada77-2cf8-4bfd-828f-e4a6ab210ca5",
   "metadata": {},
   "outputs": [
    {
     "name": "stdout",
     "output_type": "stream",
     "text": [
      "var1 = 10\n",
      "var2 = Carnus\n"
     ]
    }
   ],
   "source": [
    "class MaClasse:\n",
    "    def __init__(self):\n",
    "        self.var1 = 10\n",
    "        self.var2 = \"Carnus\"\n",
    "\n",
    "    def __repr__(self):\n",
    "        return \"Un objet de la classe MaClasse\"\n",
    "\n",
    "    def __str__(self):\n",
    "        print(\"var1 =\", self.var1)\n",
    "        print(\"var2 =\", end=\" \")\n",
    "        return self.var2\n",
    "\n",
    "\n",
    "A = MaClasse()\n",
    "print(A)"
   ]
  },
  {
   "cell_type": "markdown",
   "id": "df6867f4-0be0-43e9-a848-97d7db2baee0",
   "metadata": {},
   "source": [
    "## Nombres complexes"
   ]
  },
  {
   "cell_type": "code",
   "execution_count": 41,
   "id": "a8d92891-ea4f-4a04-9324-cfc96037dbf9",
   "metadata": {},
   "outputs": [
    {
     "name": "stdout",
     "output_type": "stream",
     "text": [
      "c1 =  <bound method nombre_complexe.affiche of <__main__.nombre_complexe object at 0x11fbe32f0>>\n",
      "module = <bound method nombre_complexe.module of <__main__.nombre_complexe object at 0x11fbe32f0>>\n",
      "argument =  <bound method nombre_complexe.argument of <__main__.nombre_complexe object at 0x11fbe32f0>> rad\n",
      "conjugué =  <bound method nombre_complexe.conjugue of <__main__.nombre_complexe object at 0x11fbe32f0>>\n",
      " \n",
      "-_-_-_-_-_-_-_-_-_-_-_-_-_-_-_-_-_-_-_-_\n",
      " \n",
      "c1 =  0.500000 + 0.866025 j\n",
      "module = 0.9999999999999999\n",
      "argument =  1.0471975511965976 rad\n",
      "conjugué =  0.500000 - 0.866025 j\n"
     ]
    }
   ],
   "source": [
    "import math\n",
    "\n",
    "class nombre_complexe(object):\n",
    "    def __init__(self, a=0, b=0):\n",
    "        \"\"\" Constructeur \"\"\"\n",
    "        self.a = a\n",
    "        self.b = b\n",
    "\n",
    "    def affiche(self):\n",
    "        \"\"\"\n",
    "        Fonction qui définit l'affichage des nombres complexes \n",
    "        selon la valeur de la partie imaginaire\n",
    "        z = a + jb\n",
    "        \"\"\"\n",
    "        if self.b == 0:\n",
    "            return \"%f\" % (self.a)\n",
    "            # z = a\n",
    "        elif self.b > 0:\n",
    "            return \"%f + %f j\" % (self.a, self.b)\n",
    "            # z = a + b j\n",
    "        else:\n",
    "            return \"%f - %f j\" % (self.a, -self.b)\n",
    "            # z = a - |b| j\n",
    "\n",
    "    # Calcule du module et de l'argument à partir de l'écriture algébrique\n",
    "    # c.à.d. à partir de la partie réelle et imaginaire\n",
    "    def module(self):\n",
    "        \"\"\"\n",
    "        Fonction qui calcule le module du nombre complexe\n",
    "        \"\"\"\n",
    "        return math.sqrt(self.a * self.a + self.b * self.b)\n",
    "\n",
    "    def argument(self):\n",
    "        \"\"\"\n",
    "        Fonction qui calcule l'argument du nombre complexe\n",
    "        \"\"\"\n",
    "        r = self.module()\n",
    "        if r == 0:\n",
    "            return 0\n",
    "        else:\n",
    "            return math.atan2(self.b / r, self.a / r)\n",
    "\n",
    "    # Calcul du conjugué\n",
    "    def conjugue(self):\n",
    "        \"\"\"\n",
    "        Fonction qui calcule le conjugué\n",
    "        \"\"\"\n",
    "        if self.b == 0:\n",
    "            return \"%f\" % (self.a)\n",
    "            # z = a\n",
    "        elif self.b > 0:\n",
    "            return \"%f - %f j\" % (self.a, self.b)\n",
    "            # z = a + b j\n",
    "        else:\n",
    "            return \"%f + %f j\" % (self.a, -self.b)\n",
    "            # z = a - |b| j\n",
    "\n",
    "c1 = nombre_complexe(0.5, math.sqrt(3) / 2)\n",
    "print(\"c1 = \", c1.affiche)\n",
    "print(f\"module = {c1.module}\")\n",
    "print(\"argument = \", c1.argument, \"rad\")\n",
    "print(\"conjugué = \", c1.conjugue)\n",
    "\n",
    "print(\" \")\n",
    "print(\"-_\"*20)\n",
    "print(\" \")\n",
    "\n",
    "c1 = nombre_complexe(0.5, math.sqrt(3) / 2)\n",
    "print(\"c1 = \", c1.affiche())\n",
    "print(f\"module = {c1.module()}\")\n",
    "print(\"argument = \", c1.argument(), \"rad\")\n",
    "print(\"conjugué = \", c1.conjugue())"
   ]
  },
  {
   "cell_type": "markdown",
   "id": "25c3e290-ff19-44a5-a3b6-10e5262a1c25",
   "metadata": {},
   "source": [
    "---\n",
    "### Autre méthode (avancée)\n",
    "---"
   ]
  },
  {
   "cell_type": "code",
   "execution_count": 9,
   "id": "54c51e56-d3a2-4014-a489-d28a1fbee50a",
   "metadata": {},
   "outputs": [
    {
     "name": "stdout",
     "output_type": "stream",
     "text": [
      "c1 =  0.500000 + 0.866025 j\n",
      "module = 0.9999999999999999\n",
      "argument =  <bound method nombre_complexe.get_argument of <__main__.nombre_complexe object at 0x11e8d7e90>> rad\n",
      "conjugué =  <bound method nombre_complexe.get_conjugue of <__main__.nombre_complexe object at 0x11e8d7e90>>\n",
      "-_-_-_-_-_-_-_-_-_-_-_-_-_-_-_-_-_-_-_-_\n",
      "c2 =  0.500000 + 0.866025 j\n",
      "module = 0.9999999999999999\n",
      "argument =  1.0471975511965976 rad\n",
      "conjugué =  0.500000 - 0.866025 j\n"
     ]
    }
   ],
   "source": [
    "import math\n",
    "\n",
    "class nombre_complexe(object):\n",
    "    def __init__(self, a=0, b=0):\n",
    "        \"\"\" Constructeur \"\"\"\n",
    "        self.a = a\n",
    "        self.b = b\n",
    "\n",
    "    def __str__(self):\n",
    "        \"\"\"\n",
    "        Fonction qui définit l'affichage des nombres complexes \n",
    "        selon la valeur de la partie imaginaire\n",
    "        z = a + jb\n",
    "        \"\"\"\n",
    "        if self.b == 0:\n",
    "            return \"%f\" % (self.a)\n",
    "            # z = a\n",
    "        elif self.b > 0:\n",
    "            return \"%f + %f j\" % (self.a, self.b)\n",
    "            # z = a + b j\n",
    "        else:\n",
    "            return \"%f - %f j\" % (self.a, -self.b)\n",
    "            # z = a - |b| j\n",
    "\n",
    "    # Calcule du module et de l'argument à partir de l'écriture algébrique\n",
    "    # c.à.d. à partir de la partie réelle et imaginaire\n",
    "    def get_module(self):\n",
    "        \"\"\"\n",
    "        Fonction qui calcule le module du nombre complexe\n",
    "        \"\"\"\n",
    "        return math.sqrt(self.a * self.a + self.b * self.b)\n",
    "\n",
    "    def get_argument(self):\n",
    "        \"\"\"\n",
    "        Fonction qui calcule l'argument du nombre complexe\n",
    "        \"\"\"\n",
    "        r = self.get_module()\n",
    "        if r == 0:\n",
    "            return 0\n",
    "        else:\n",
    "            return math.atan2(self.b / r, self.a / r)\n",
    "\n",
    "    # Calcul du conjugué\n",
    "    def get_conjugue(self):\n",
    "        \"\"\"\n",
    "        Fonction qui calcule le conjugué du nombre complexe\n",
    "        \"\"\"\n",
    "        return nombre_complexe(self.a, -self.b)\n",
    "\n",
    "    module = property(fget=get_module, doc=\"module\")\n",
    "    arg = property(fget=get_argument, doc=\"argument\")\n",
    "    conj = property(fget=get_conjugue, doc=\"conjugué\")\n",
    "\n",
    "\n",
    "c1 = nombre_complexe(0.5, math.sqrt(3) / 2)\n",
    "print(\"c1 = \", c1)                                 # affiche : c1 =  0.500000 + 0.866025 j\n",
    "print(f\"module = {c1.get_module()}\")\n",
    "print(\"argument = \", c1.get_argument, \"rad\")\n",
    "print(\"conjugué = \", c1.get_conjugue)\n",
    "\n",
    "print(\"-_\"*20)\n",
    "\n",
    "c2 = nombre_complexe(0.5, math.sqrt(3) / 2)\n",
    "print(\"c2 = \", c2)                        # affiche : c2 =  0.500000 + 0.866025 j\n",
    "print(f\"module = {c2.module}\")            # affiche : module =  1.0\n",
    "print(\"argument = \", c2.arg, \"rad\")       # affiche : argument =  1.0471975512 rad = pi/3\n",
    "print(\"conjugué = \", c2.conj)             # affiche : conjugué =  0.500000 - 0.866025 j"
   ]
  },
  {
   "cell_type": "markdown",
   "id": "4690bfa7-1f9a-482e-a2fa-c9335c35cc03",
   "metadata": {},
   "source": [
    "### Méthode de classe\n",
    "En Python, les méthodes de classe sont définies à l'aide du décorateur `@classmethod`. \n",
    "\n",
    "Les méthodes de classe sont liées à la classe elle-même, tandis que les méthodes d’instance sont associées aux objets créés à partir de la classe."
   ]
  },
  {
   "cell_type": "code",
   "execution_count": 85,
   "id": "9d36c9e0-6ae6-4e37-9acf-6062d75a81ec",
   "metadata": {},
   "outputs": [
    {
     "name": "stdout",
     "output_type": "stream",
     "text": [
      "Vous êtes dans le store : Apple\n",
      "Ordinateur de marque Asus est vendu au prix de 700 €\n"
     ]
    }
   ],
   "source": [
    "class Ordinateur:\n",
    "    # constructeur\n",
    "    def __init__(self, marque, prix):\n",
    "        self.marque = marque\n",
    "        self.prix = prix\n",
    "\n",
    "    def affiche(self):\n",
    "        print(f\"Ordinateur de marque {self.marque} est vendu au prix de {self.prix} €\")\n",
    "\n",
    "    @classmethod\n",
    "    def message(cls,marque):\n",
    "        cls.marque = marque\n",
    "        print(\"Vous êtes dans le store :\",cls.marque)\n",
    "\n",
    "# Appel de la méthode de classe sans création d'instance\n",
    "apple = Ordinateur.message(\"Apple\")\n",
    "\n",
    "# Création d'un objet et appel de la méthode de l'instance (objet)\n",
    "PC1 = Ordinateur(\"Asus\",700) # Objet\n",
    "PC1.affiche()"
   ]
  },
  {
   "cell_type": "code",
   "execution_count": 116,
   "id": "629c2737-4668-45a3-b7c8-df258eecacd0",
   "metadata": {},
   "outputs": [
    {
     "name": "stdout",
     "output_type": "stream",
     "text": [
      "Charles fête aujourd'hui ces 22 ans,\n",
      "8 étudiants de la classe lui ont offert des cadeaux d'anniversaire\n",
      "\n",
      "La promotion compte 10 étudiants\n"
     ]
    }
   ],
   "source": [
    "class Etudiant:\n",
    "\n",
    "   nb_etudiants = 9\n",
    "\n",
    "   def __init__(self, nom, age):\n",
    "       self.nom = nom\n",
    "       self.age = age\n",
    "\n",
    "   def date_naissance(self):\n",
    "       self.age += 1\n",
    "       return f\"{self.nom} fête aujourd'hui ces {self.age} ans,\\n\" \\\n",
    "              f\"{self.nb_etudiants - 1} étudiants de la classe lui ont\" \\\n",
    "              f\" offert des cadeaux d'anniversaire\\n\"\n",
    "\n",
    "   @classmethod\n",
    "   def ajout_etudiant(cls):\n",
    "       cls.nb_etudiants += 1\n",
    "\n",
    "   @classmethod\n",
    "   def total_etudiants(cls):\n",
    "       return f\"La promotion compte {cls.nb_etudiants} étudiants\"\n",
    "\n",
    "etu1 = Etudiant(\"Charles\", 21)\n",
    "\n",
    "print(etu1.date_naissance())\n",
    "\n",
    "etu1.ajout_etudiant()\n",
    "print(Etudiant.total_etudiants())"
   ]
  },
  {
   "cell_type": "code",
   "execution_count": 144,
   "id": "d4c5ba72-d00a-4128-a312-9b13a4657bd6",
   "metadata": {},
   "outputs": [
    {
     "name": "stdout",
     "output_type": "stream",
     "text": [
      "Apple\n",
      "<__main__.Ordinateur object at 0x1207ce600>\n",
      "900\n"
     ]
    }
   ],
   "source": [
    "class Ordinateur:\n",
    "    def __init__(self,*,marque: str, prix: float):\n",
    "        self.marque = marque\n",
    "        self.prix = prix\n",
    "def main():\n",
    "    o1 : Ordinateur = Ordinateur(marque='Apple',prix=1200)\n",
    "    o2 : Ordinateur = Ordinateur(marque='Dell',prix=850.9)\n",
    "    o3 : Ordinateur = Ordinateur(marque='HP',prix=900)\n",
    "\n",
    "    print(o1.marque)\n",
    "    print(o2)\n",
    "    print(o3.prix)\n",
    "\n",
    "if __name__ == '__main__':\n",
    "    main()"
   ]
  },
  {
   "cell_type": "markdown",
   "id": "3ef770a4-bfa2-49bf-97bc-67938e64006e",
   "metadata": {},
   "source": [
    "---\n",
    "---"
   ]
  },
  {
   "cell_type": "markdown",
   "id": "dd0d1952-00c1-400b-b88c-bf0f94bf6e7d",
   "metadata": {},
   "source": [
    "---\n",
    "---"
   ]
  },
  {
   "cell_type": "markdown",
   "id": "de68fa86-f49d-4281-bf2e-0f1dea833c93",
   "metadata": {},
   "source": [
    "```python\n",
    "if __name__ == \"__main__\":\n",
    "    run_function()\n",
    "```"
   ]
  },
  {
   "cell_type": "code",
   "execution_count": 122,
   "id": "8f433213-12ff-4279-a22b-f0d41d895bef",
   "metadata": {},
   "outputs": [
    {
     "name": "stdout",
     "output_type": "stream",
     "text": [
      "Un module\n"
     ]
    }
   ],
   "source": [
    "print(\"Un module\")"
   ]
  },
  {
   "cell_type": "code",
   "execution_count": 124,
   "id": "47d915cf-33e9-4ff1-a829-43873a9abf82",
   "metadata": {},
   "outputs": [
    {
     "name": "stdout",
     "output_type": "stream",
     "text": [
      "Un module\n"
     ]
    }
   ],
   "source": [
    "import pandas\n",
    "df = pandas.DataFrame([1,2])\n",
    "print(\"Un module\")"
   ]
  },
  {
   "cell_type": "code",
   "execution_count": 126,
   "id": "515ea1e0-769b-438b-ba72-68b6e8a3b101",
   "metadata": {},
   "outputs": [
    {
     "name": "stdout",
     "output_type": "stream",
     "text": [
      "Un module\n",
      "__main__\n"
     ]
    }
   ],
   "source": [
    "import pandas\n",
    "df = pandas.DataFrame([1,2])\n",
    "print(\"Un module\")\n",
    "print(__name__)"
   ]
  },
  {
   "cell_type": "code",
   "execution_count": 128,
   "id": "788c1942-b233-4225-8376-1c9012fb6587",
   "metadata": {},
   "outputs": [
    {
     "name": "stdout",
     "output_type": "stream",
     "text": [
      "Un module\n",
      "pandas\n"
     ]
    }
   ],
   "source": [
    "import pandas\n",
    "df = pandas.DataFrame([1,2])\n",
    "print(\"Un module\")\n",
    "print(pandas.__name__)"
   ]
  },
  {
   "cell_type": "code",
   "execution_count": 130,
   "id": "cb19b30e-de0c-464c-a72d-a1e67e4081b0",
   "metadata": {},
   "outputs": [
    {
     "name": "stdout",
     "output_type": "stream",
     "text": [
      "Un module\n",
      "pandas\n"
     ]
    }
   ],
   "source": [
    "import pandas as pd\n",
    "df = pandas.DataFrame([1,2])\n",
    "print(\"Un module\")\n",
    "print(pd.__name__)"
   ]
  },
  {
   "cell_type": "code",
   "execution_count": 132,
   "id": "f52ba481-5ad4-48bd-a1e3-0faf1470cf3f",
   "metadata": {},
   "outputs": [
    {
     "name": "stdout",
     "output_type": "stream",
     "text": [
      "Affichage 1 : sin\n"
     ]
    },
    {
     "ename": "NameError",
     "evalue": "name 'numpy' is not defined",
     "output_type": "error",
     "traceback": [
      "\u001b[0;31m---------------------------------------------------------------------------\u001b[0m",
      "\u001b[0;31mNameError\u001b[0m                                 Traceback (most recent call last)",
      "Cell \u001b[0;32mIn[132], line 3\u001b[0m\n\u001b[1;32m      1\u001b[0m \u001b[38;5;28;01mfrom\u001b[39;00m \u001b[38;5;21;01mnumpy\u001b[39;00m \u001b[38;5;28;01mimport\u001b[39;00m sin\n\u001b[1;32m      2\u001b[0m \u001b[38;5;28mprint\u001b[39m(\u001b[38;5;124m\"\u001b[39m\u001b[38;5;124mAffichage 1 :\u001b[39m\u001b[38;5;124m\"\u001b[39m,sin\u001b[38;5;241m.\u001b[39m\u001b[38;5;18m__name__\u001b[39m)\n\u001b[0;32m----> 3\u001b[0m \u001b[38;5;28mprint\u001b[39m(\u001b[38;5;124m\"\u001b[39m\u001b[38;5;124mAffichage 2 :\u001b[39m\u001b[38;5;124m\"\u001b[39m,numpy\u001b[38;5;241m.\u001b[39m\u001b[38;5;18m__name__\u001b[39m)\n",
      "\u001b[0;31mNameError\u001b[0m: name 'numpy' is not defined"
     ]
    }
   ],
   "source": [
    "from numpy import sin\n",
    "print(\"Affichage 1 :\",sin.__name__)\n",
    "print(\"Affichage 2 :\",numpy.__name__)"
   ]
  },
  {
   "cell_type": "code",
   "execution_count": 134,
   "id": "7c78ad38-8e7b-424c-b890-ad8ed5791eee",
   "metadata": {},
   "outputs": [
    {
     "name": "stdout",
     "output_type": "stream",
     "text": [
      "Affichage 1 : sin\n",
      "Affichage 2 : numpy\n"
     ]
    }
   ],
   "source": [
    "import numpy\n",
    "from numpy import sin\n",
    "print(\"Affichage 1 :\",sin.__name__)\n",
    "print(\"Affichage 2 :\",numpy.__name__)"
   ]
  },
  {
   "cell_type": "markdown",
   "id": "3d582006-0ab4-4bc4-902c-7738b48f160c",
   "metadata": {},
   "source": [
    "## Création du 1er code à importer\n",
    "\n",
    "Créer un nouveau fichier Python nommé `module1.py`et écrire le code suivant :"
   ]
  },
  {
   "cell_type": "code",
   "execution_count": null,
   "id": "cff82725-884e-4879-9d65-e750fdb11e73",
   "metadata": {},
   "outputs": [],
   "source": [
    "# Module à importer\n",
    "def affiche():\n",
    "\tprint(\"Code importé\")\n",
    "\n",
    "affiche()"
   ]
  },
  {
   "cell_type": "code",
   "execution_count": null,
   "id": "db829b12-2bb4-4ebe-b2ec-e95b9b91c53f",
   "metadata": {},
   "outputs": [],
   "source": [
    "from module1 import affiche"
   ]
  },
  {
   "cell_type": "markdown",
   "id": "7a98674c-2c0a-4d65-8c75-27e1dfd7a88b",
   "metadata": {},
   "source": [
    "## Création du 2ème code à importer\n",
    "\n",
    "Créer un nouveau fichier Python nommé `module2.py`et écrire le code suivant :"
   ]
  },
  {
   "cell_type": "code",
   "execution_count": null,
   "id": "64455eae-94ac-45cb-bb68-fa1b2c58802c",
   "metadata": {},
   "outputs": [],
   "source": [
    "# Module à importer\n",
    "def affiche2():\n",
    "\tprint(\"Code importé\")\n",
    "\n",
    "if __name__ == \"__main__\":\n",
    "    affiche2()"
   ]
  },
  {
   "cell_type": "code",
   "execution_count": null,
   "id": "d55f7428-c344-4663-aa7d-4a9f8464d998",
   "metadata": {},
   "outputs": [],
   "source": [
    "from module2 import affiche2"
   ]
  },
  {
   "cell_type": "markdown",
   "id": "5f07db92-66e6-4e0c-a1d7-d03c1ab74c18",
   "metadata": {},
   "source": [
    "---\n",
    "\n",
    "## Création du 3ème code à importer\n",
    "\n",
    "Créer un nouveau fichier Python nommé `module3.py`et écrire le code suivant :"
   ]
  },
  {
   "cell_type": "code",
   "execution_count": null,
   "id": "2048c335-f163-46b1-8276-0cd90677ca05",
   "metadata": {},
   "outputs": [],
   "source": [
    "import time\n",
    "\n",
    "def affiche3() -> None:\n",
    "    print(\"1er message\")\n",
    "    time.sleep(1)\n",
    "    print(\"2ème message\")\n",
    "\n",
    "affiche3()"
   ]
  },
  {
   "cell_type": "code",
   "execution_count": null,
   "id": "72a14e41-14f9-4596-89cf-d86144c26ccb",
   "metadata": {},
   "outputs": [],
   "source": [
    "from module3 import affiche3"
   ]
  },
  {
   "cell_type": "code",
   "execution_count": null,
   "id": "6e7e1d22-6143-4ff1-9bb6-a908e4b0f26a",
   "metadata": {},
   "outputs": [],
   "source": [
    "from module3 import affiche3\n",
    "affiche3()"
   ]
  },
  {
   "cell_type": "markdown",
   "id": "c3412ecc-6927-447b-b663-9246e0c31269",
   "metadata": {},
   "source": [
    "---\n",
    "\n",
    "## Création du 4ème code à importer\n",
    "\n",
    "Créer un nouveau fichier Python nommé `module4.py`et écrire le code suivant :"
   ]
  },
  {
   "cell_type": "code",
   "execution_count": null,
   "id": "24f4ce31-8485-444e-8f51-0f16cf971c5d",
   "metadata": {},
   "outputs": [],
   "source": [
    "def affiche4_1():\n",
    "    print(\"Affiche N° 1\")\n",
    "\n",
    "def affiche4_2():\n",
    "    print(\"Affiche N° 2\")\n",
    "\n",
    "def main():\n",
    "    affiche4_1()\n",
    "    affiche4_2()\n",
    "\n",
    "if __name__ == \"__main__\":\n",
    "    main()"
   ]
  },
  {
   "cell_type": "code",
   "execution_count": null,
   "id": "a2f8a06e-d566-452f-88b6-5fccfc79e573",
   "metadata": {},
   "outputs": [],
   "source": [
    "from module4 import *\n",
    "main()"
   ]
  },
  {
   "cell_type": "code",
   "execution_count": null,
   "id": "806b4118-c962-4541-86ef-c1c6b0f41569",
   "metadata": {},
   "outputs": [],
   "source": []
  },
  {
   "cell_type": "code",
   "execution_count": null,
   "id": "2c672cc3-41c8-47a9-b1f5-be75d4c94fd9",
   "metadata": {},
   "outputs": [],
   "source": []
  },
  {
   "cell_type": "markdown",
   "id": "07dad126-a1e5-47b2-8852-3c09d831b06f",
   "metadata": {},
   "source": [
    "---\n",
    "---"
   ]
  },
  {
   "cell_type": "code",
   "execution_count": null,
   "id": "4ad36566-8d26-4cbf-b486-9767c3e0487f",
   "metadata": {},
   "outputs": [],
   "source": []
  },
  {
   "cell_type": "code",
   "execution_count": null,
   "id": "3149b3e4-2b67-45aa-a4f2-2e97b16b8626",
   "metadata": {},
   "outputs": [],
   "source": [
    "def inscription(nom: str, age: int, id: bool):\n",
    "    if nom.lower() == 'charles':\n",
    "        print('Bonjour Charles')\n",
    "        return\n",
    "\n",
    "    if (age >= 16 and id):\n",
    "        print('Vous pouvez travailler dans cette entreprise')\n",
    "    else:\n",
    "        print(\"Vous n'avez pas l'age requis\")\n",
    "\n",
    "def main():\n",
    "    inscription('Charles', 19, id=True)\n",
    "    inscription('Carnus', 19, id=False)\n",
    "    inscription('Nom1', 15, id=True)\n",
    "    inscription('Nom2', 15, id=False)\n",
    "\n",
    "if __name__ == '__main__':\n",
    "    main()"
   ]
  },
  {
   "cell_type": "code",
   "execution_count": 146,
   "id": "46862963-84ff-4f66-8a68-7b39ee4befcc",
   "metadata": {},
   "outputs": [
    {
     "name": "stdout",
     "output_type": "stream",
     "text": [
      "1234000000\n",
      "1.234000e+09\n"
     ]
    }
   ],
   "source": [
    "grand_nombre = 1_234_000_000\n",
    "print(f'{grand_nombre}')\n",
    "print(f'{grand_nombre:e}')"
   ]
  },
  {
   "cell_type": "code",
   "execution_count": 148,
   "id": "6bcac27c-d1ba-492e-88ce-c4a55e38413e",
   "metadata": {},
   "outputs": [
    {
     "name": "stdout",
     "output_type": "stream",
     "text": [
      "1234000000.0\n",
      "1.23e+09\n"
     ]
    }
   ],
   "source": [
    "grand_nombre = 1.234e9\n",
    "print(f'{grand_nombre}')\n",
    "print(f'{grand_nombre:.2e}')"
   ]
  },
  {
   "cell_type": "code",
   "execution_count": 150,
   "id": "216299e1-15db-4958-984d-d96c95d56007",
   "metadata": {},
   "outputs": [
    {
     "name": "stdout",
     "output_type": "stream",
     "text": [
      "1,000.12\n"
     ]
    }
   ],
   "source": [
    "nombre = 1000.123456\n",
    "form = ',.2f'\n",
    "print(f'{nombre:{form}}')"
   ]
  },
  {
   "cell_type": "code",
   "execution_count": 152,
   "id": "f7fe2d19-0ea5-494e-8334-c0322ce075a2",
   "metadata": {},
   "outputs": [
    {
     "name": "stdout",
     "output_type": "stream",
     "text": [
      "\\Desktop\\Dossier1\\Dossier1_1\\prog1.txt\n"
     ]
    }
   ],
   "source": [
    "fichier = 'prog1.txt'\n",
    "repertoire = fr'\\Desktop\\Dossier1\\Dossier1_1\\{fichier}'\n",
    "print(repertoire)"
   ]
  },
  {
   "cell_type": "code",
   "execution_count": 154,
   "id": "c03d29be-b42a-41d6-abc8-8409f3dc0258",
   "metadata": {},
   "outputs": [
    {
     "name": "stdout",
     "output_type": "stream",
     "text": [
      "Boucle while\t\t 8.418641852000292\n",
      "Boucle for\t\t 6.559324656000172\n",
      "Somme\t\t\t 2.7853527320003195\n",
      "Somme np\t\t\t 1.0588976769995497\n",
      "Somme numpy\t\t\t 0.5046936199996708\n",
      "Somme formule\t\t\t 2.1759988158009946e-06\n"
     ]
    }
   ],
   "source": [
    "import timeit\n",
    "import numpy\n",
    "import numpy as np\n",
    "\n",
    "# Somme des nombres de 0 à n-1 avec 2 boucles (for et while)\n",
    "\n",
    "def boucle_while(n=100_000_000):\n",
    "    i = 0\n",
    "    s = 0\n",
    "    while i < n:\n",
    "        s = s + i\n",
    "        i = i + 1\n",
    "    return s\n",
    "\n",
    "def boucle_for(n=100_000_000):\n",
    "    s = 0\n",
    "    for i in range(n):\n",
    "        s = s + i\n",
    "    return s\n",
    "\n",
    "def somme(n=100_000_000):\n",
    "    return sum(range(n))\n",
    "\n",
    "def somme_np(n=100_000_000):\n",
    "    return np.sum(np.arange(n))\n",
    "\n",
    "def somme_numpy(n=100_000_000):\n",
    "    return numpy.sum(numpy.arange(n))\n",
    "\n",
    "def somme_formule(n=100_000_000):\n",
    "    return (n * (n - 1))//2\n",
    "\n",
    "def main():\n",
    "    print('Boucle while\\t\\t', timeit.timeit(boucle_while, number=1))\n",
    "    print('Boucle for\\t\\t', timeit.timeit(boucle_for, number=1))\n",
    "    print('Somme\\t\\t\\t', timeit.timeit(somme, number=1))\n",
    "    print('Somme np\\t\\t\\t', timeit.timeit(somme_np, number=1))\n",
    "    print('Somme numpy\\t\\t\\t', timeit.timeit(somme_numpy, number=1))\n",
    "    print('Somme formule\\t\\t\\t', timeit.timeit(somme_formule, number=1))\n",
    "\n",
    "if __name__ == '__main__':\n",
    "    main()"
   ]
  },
  {
   "cell_type": "code",
   "execution_count": 158,
   "id": "17d1f727-f20e-4104-a31c-b04179d13de2",
   "metadata": {},
   "outputs": [
    {
     "name": "stderr",
     "output_type": "stream",
     "text": [
      "invalid command name \"4849473088update\"\n",
      "    while executing\n",
      "\"4849473088update\"\n",
      "    (\"after\" script)\n",
      "invalid command name \"4844571968check_dpi_scaling\"\n",
      "    while executing\n",
      "\"4844571968check_dpi_scaling\"\n",
      "    (\"after\" script)\n"
     ]
    }
   ],
   "source": [
    "import customtkinter\n",
    "\n",
    "#customtkinter.set_appearance_mode(\"dark\")\n",
    "#customtkinter.set_appearance_mode(\"light\")\n",
    "customtkinter.set_appearance_mode(\"system\")\n",
    "customtkinter.set_default_color_theme(\"dark-blue\")\n",
    "\n",
    "root = customtkinter.CTk()\n",
    "root.geometry(\"500x350\")\n",
    "\n",
    "def login():\n",
    "    print(\"Test\")\n",
    "\n",
    "frame = customtkinter.CTkFrame(master=root)\n",
    "frame.pack(pady=20, padx=60, fill=\"both\", expand=True)\n",
    "\n",
    "#label = customtkinter.CTkLabel(master=frame, text=\"login system\", text_font={\"Roboto\", 24})\n",
    "label = customtkinter.CTkLabel(master=frame, text=\"Connexion\")\n",
    "label.pack(pady=12, padx=10)\n",
    "\n",
    "entry1 = customtkinter.CTkEntry(master=frame, placeholder_text=\"Nom d'utilisateur\")\n",
    "entry1.pack(pady=12, padx=10)\n",
    "\n",
    "entry2 = customtkinter.CTkEntry(master=frame, placeholder_text=\"Mot de passe\", show=\"*\")\n",
    "entry2.pack(pady=12, padx=10)\n",
    "\n",
    "button = customtkinter.CTkButton(master=frame, text=\"Se connecter\", command=login)\n",
    "button.pack(pady=12, padx=10)\n",
    "\n",
    "checkbox = customtkinter.CTkCheckBox(master=frame, text=\"Garder la session ouverte\")\n",
    "checkbox.pack(pady=12, padx=10)\n",
    "\n",
    "root.mainloop()"
   ]
  },
  {
   "cell_type": "markdown",
   "id": "4d2d584c-2b04-45e1-93da-6a12b20d7501",
   "metadata": {},
   "source": [
    "---\n",
    "---\n",
    "### Importation d'une classe\n",
    "\n",
    "Créer un nouveau fichier Python nommé `module_C.py`et écrire le code suivant :\n",
    "\n",
    "---\n",
    "---"
   ]
  },
  {
   "cell_type": "code",
   "execution_count": null,
   "id": "64956a4b-fb5c-4d5a-bdd8-2e97d67d9902",
   "metadata": {},
   "outputs": [],
   "source": [
    "class Operations:\n",
    "    # méthodes\n",
    "    def addition(self, a, b):\n",
    "        return a + b\n",
    "    def soustraction(self, a, b):\n",
    "        return a - b\n",
    "\n",
    "# fonction      \n",
    "def ma_fonction():\n",
    "    print(\"Operations\")"
   ]
  },
  {
   "cell_type": "code",
   "execution_count": null,
   "id": "ce1cd02b-f0fa-49d8-989d-029b17400638",
   "metadata": {},
   "outputs": [],
   "source": [
    "import module_C\n",
    " \n",
    "# Création de l'objet de la calsse\n",
    "objet = module_C.Operations()\n",
    " \n",
    "# Appel et affichage des méthodes de la classe\n",
    "print(objet.addition(10,2))\n",
    "print(objet.soustraction(10,2))\n",
    " \n",
    "# Appel de la fonction\n",
    "module_C.ma_fonction()"
   ]
  },
  {
   "cell_type": "code",
   "execution_count": null,
   "id": "0f40f9cd-6d24-41a0-81e4-a8acac1299f7",
   "metadata": {},
   "outputs": [],
   "source": [
    "from module_C import ma_fonction\n",
    " \n",
    "ma_fonction()"
   ]
  },
  {
   "cell_type": "markdown",
   "id": "4a44cf73-0e2c-453c-bbcc-3012d26e19fb",
   "metadata": {},
   "source": [
    "---\n",
    "### Importation d'une classe\n",
    "\n",
    "Créer un nouveau fichier Python nommé `module_C2.py`et écrire le code suivant :"
   ]
  },
  {
   "cell_type": "code",
   "execution_count": null,
   "id": "43fa729a-156a-4198-91f2-1b9ce34bb1f7",
   "metadata": {},
   "outputs": [],
   "source": [
    "class Somme:\n",
    " \n",
    "    def __init__(self):\n",
    "        self.som = 0\n",
    "     \n",
    "    def get_som(self,n1,n2):\n",
    "        self.som = n1 + n2\n",
    "        return self.som"
   ]
  },
  {
   "cell_type": "code",
   "execution_count": null,
   "id": "d7b11d5e-5c70-4d64-9a85-827f7036e9c8",
   "metadata": {},
   "outputs": [],
   "source": [
    "import module_C2\n",
    " \n",
    "obj = module_C2.Somme()\n",
    "c = obj.get_som(10,8)\n",
    "print(c)"
   ]
  },
  {
   "cell_type": "code",
   "execution_count": null,
   "id": "b0de3424-4276-455e-afc7-d8ff8c3b8029",
   "metadata": {},
   "outputs": [],
   "source": [
    "from module_C2 import Somme\n",
    " \n",
    "obj = Somme()\n",
    "print(obj.get_som(20, 10))"
   ]
  },
  {
   "cell_type": "markdown",
   "id": "fc00ecad-3205-4c1d-972d-ab95e62dda9f",
   "metadata": {},
   "source": [
    "---\n",
    "### Importation d'une classe\n",
    "\n",
    "Créer un nouveau fichier Python nommé `module_C3.py`et écrire le code suivant :"
   ]
  },
  {
   "cell_type": "code",
   "execution_count": null,
   "id": "73f82488-f634-4271-bdac-4243ecfc95f1",
   "metadata": {},
   "outputs": [],
   "source": [
    "class Somme:\n",
    " \n",
    "    def __init__(self):\n",
    "        self.som = 0\n",
    "     \n",
    "    def get_som(self,n1,n2):\n",
    "        self.som = n1 + n2\n",
    "        return self.som\n",
    " \n",
    "class Affichage:\n",
    " \n",
    "    def __init__(self):\n",
    "        self.donnees = \"\"\n",
    " \n",
    "    def print_donnees(self,donnees):\n",
    "        self.donnees = donnees\n",
    "        return self.donnees"
   ]
  },
  {
   "cell_type": "code",
   "execution_count": null,
   "id": "84b8ed98-83e7-44f1-932b-ca5fcc0ac8a6",
   "metadata": {},
   "outputs": [],
   "source": [
    "from module_C3 import *\n",
    " \n",
    "obj1 = Somme()\n",
    "print(obj1.get_som(10, 2))\n",
    " \n",
    "obj2 = Affichage()\n",
    "print(obj2.print_donnees(\"Accès à une autre classe à partir du fichier module_C3.py\"))"
   ]
  },
  {
   "cell_type": "markdown",
   "id": "5f533d73-f4af-4445-9683-8bda9345131c",
   "metadata": {},
   "source": [
    "---\n",
    "### Importation d'une classe\n",
    "\n",
    "- Créer un nouveau dossier nommé `module_rep`\n",
    "- Créer dans ce dossier un nouveau fichier Python nommé `moduleC.py`et écrire le code suivant :\n",
    "\n",
    "```\n",
    "📦src\n",
    " ┣ 📜ReadMe.md\n",
    " ┣ 📜code.ipynb\n",
    " ┣ 📜module_C1.py\n",
    " ┣ 📜...\n",
    " ┣ 📜module4.py\n",
    " ┣ 📜...\n",
    " ┣ 📂module_rep\n",
    " ┃ ┣ 📜moduleC.py\n",
    " ┃ ┣ 📜__init__.py\n",
    " ┣ 📜autre1.xy\n",
    " ┗ 📜autre2.xyz\n",
    "``"
   ]
  },
  {
   "cell_type": "code",
   "execution_count": null,
   "id": "2309a7b0-d851-4595-ba21-273f0bc2bd95",
   "metadata": {},
   "outputs": [],
   "source": [
    "class Multiplication:\n",
    " \n",
    "    def __init__(self):\n",
    "        self.mult = 1\n",
    "     \n",
    "    def get_mult(self,n1,n2):\n",
    "        self.mult = n1 * n2\n",
    "        return self.mult\n",
    " \n",
    "class Affichage:\n",
    " \n",
    "    def __init__(self):\n",
    "        self.donnees = \"\"\n",
    " \n",
    "    def print_donnees(self,donnees):\n",
    "        self.donnees = donnees\n",
    "        return self.donnees"
   ]
  },
  {
   "cell_type": "code",
   "execution_count": null,
   "id": "ee9e89c0-0b4a-411b-ad8f-e4398e82d248",
   "metadata": {},
   "outputs": [],
   "source": [
    "from module_rep.moduleC import Multiplication\n",
    " \n",
    "var1 = Multiplication()\n",
    "print(var1.get_mult(10, 12))"
   ]
  },
  {
   "cell_type": "markdown",
   "id": "40c9bc79-4a3d-40e8-b7c8-81e6c309c055",
   "metadata": {},
   "source": [
    "---\n",
    "---"
   ]
  },
  {
   "cell_type": "code",
   "execution_count": 167,
   "id": "37d65565-621a-4da5-bbb7-bbc537b01060",
   "metadata": {},
   "outputs": [
    {
     "name": "stdout",
     "output_type": "stream",
     "text": [
      "<__main__.Etudiant object at 0x128c5f8c0>\n"
     ]
    }
   ],
   "source": [
    "class Etudiant :\n",
    "    def __init__(self, nom, prenom, specialite, age) :\n",
    "        self.nom = nom\n",
    "        self.prenom = prenom\n",
    "        self.specialite = specialite\n",
    "        self.age = age\n",
    "\n",
    "etu1 = Etudiant('Carnus','Charles','CIEL',20)\n",
    "print(etu1)"
   ]
  },
  {
   "cell_type": "code",
   "execution_count": 169,
   "id": "7d8ff44d-eb2e-4a18-9647-e763fe6396e9",
   "metadata": {},
   "outputs": [
    {
     "name": "stdout",
     "output_type": "stream",
     "text": [
      "Carnus,Charles,CIEL,20\n"
     ]
    }
   ],
   "source": [
    "class Etudiant :\n",
    "    def __init__(self, nom, prenom, specialite, age) :\n",
    "        # self : fait référence à l’instance de la classe elle-même\n",
    "        \"\"\"\n",
    "        initialiser les variables d’instance lors de l’instanciation \n",
    "        d’un objet en utilisant la méthode __init__ . \n",
    "        La méthode __init__ est appelée à chaque fois qu’un nouvel objet de la \n",
    "        classe est créé pour initialiser les valeurs des variables d’instance.\n",
    "        \"\"\"\n",
    "        # self.nom_attribut pour initialiser les différents attributs.\n",
    "        self.nom = nom\n",
    "        self.prenom = prenom\n",
    "        self.specialite = specialite\n",
    "        self.age = age\n",
    "        # on a défini les noms des paramètres dans les définitions __init__ \n",
    "        # de manière à ce qu’ils correspondent aux noms des attributs. \n",
    "        # Cela améliore la lisibilité.\n",
    "        \"\"\"\n",
    "        Le paramètre self fait référence à l’instance de la classe et \n",
    "        le paramètre self.attribute initialise l’attribut de l’instance \n",
    "        à la valeur indiquée à droite.\n",
    "        \"\"\"\n",
    "\n",
    "    def __repr__(self):\n",
    "        \"\"\"\n",
    "        Lorsqu'on affiche les objets, on obtient aucune information utile, \n",
    "        à l’exception de la classe à laquelle ils appartiennent.\n",
    "        \n",
    "        __repr__ définit une chaîne de représentation pour la classe\n",
    "        \"\"\"\n",
    "        return f\"{self.nom},{self.prenom},{self.specialite},{self.age}\"\n",
    "\n",
    "etu1 = Etudiant('Carnus','Charles','CIEL',20)\n",
    "print(etu1)"
   ]
  },
  {
   "cell_type": "code",
   "execution_count": 171,
   "id": "adbf7c59-d0e6-4c88-837c-b383236dfe60",
   "metadata": {},
   "outputs": [
    {
     "name": "stdout",
     "output_type": "stream",
     "text": [
      "Carnus,Charles,CIEL-2,22\n"
     ]
    }
   ],
   "source": [
    "class Etudiant :\n",
    "    def __init__(self, nom, prenom, specialite, age) :\n",
    "        # self : fait référence à l’instance de la classe elle-même\n",
    "        \"\"\"\n",
    "        initialiser les variables d’instance lors de l’instanciation \n",
    "        d’un objet en utilisant la méthode __init__ . \n",
    "        La méthode __init__ est appelée à chaque fois qu’un nouvel objet de la \n",
    "        classe est créé pour initialiser les valeurs des variables d’instance.\n",
    "        \"\"\"\n",
    "        # self.nom_attribut pour initialiser les différents attributs.\n",
    "        self.nom = nom\n",
    "        self.prenom = prenom\n",
    "        self.specialite = specialite\n",
    "        self.age = age\n",
    "        # on a défini les noms des paramètres dans les définitions __init__ \n",
    "        # de manière à ce qu’ils correspondent aux noms des attributs. \n",
    "        # Cela améliore la lisibilité.\n",
    "        \"\"\"\n",
    "        Le paramètre self fait référence à l’instance de la classe et \n",
    "        le paramètre self.attribute initialise l’attribut de l’instance \n",
    "        à la valeur indiquée à droite.\n",
    "        \"\"\"\n",
    "\n",
    "    def __repr__(self):\n",
    "        \"\"\"\n",
    "        Lorsqu'on affiche les objets, on obtient aucune information utile, \n",
    "        à l’exception de la classe à laquelle ils appartiennent.\n",
    "        \n",
    "        __repr__ définit une chaîne de représentation pour la classe\n",
    "        \"\"\"\n",
    "        return f\"{self.nom},{self.prenom},{self.specialite},{self.age}\"\n",
    "\n",
    "    # méthode de classe comme constructeurs pour créer des objets de la classe\n",
    "    @classmethod\n",
    "    def from_dict(cls,data_dict) :\n",
    "        \"\"\"\n",
    "        Utilisation de cls dans la méthode de classe au lieu de self. \n",
    "        De la même manière que nous utilisons self pour faire référence à l’instance, \n",
    "        cls est utilisé pour faire référence à la classe. \n",
    "        De plus, les méthodes de classe sont liées à la classe et non aux objets. \n",
    "        \"\"\"\n",
    "        nom = data_dict['nom']\n",
    "        prenom = data_dict['prenom']\n",
    "        specialite = data_dict['specialite']\n",
    "        age = data_dict['age']\n",
    "        return cls(nom, prenom, specialite, age)\n",
    "\n",
    "etu_dict = {'nom' : 'Carnus', 'prenom' : 'Charles', 'specialite' : 'CIEL-2', 'age':22}\n",
    "etu2 = Etudiant.from_dict(etu_dict)\n",
    "print(etu2)"
   ]
  },
  {
   "cell_type": "code",
   "execution_count": null,
   "id": "59e9a875-e3d5-4824-8e9d-d636f0a991c0",
   "metadata": {},
   "outputs": [],
   "source": []
  }
 ],
 "metadata": {
  "kernelspec": {
   "display_name": "Python 3 (ipykernel)",
   "language": "python",
   "name": "python3"
  },
  "language_info": {
   "codemirror_mode": {
    "name": "ipython",
    "version": 3
   },
   "file_extension": ".py",
   "mimetype": "text/x-python",
   "name": "python",
   "nbconvert_exporter": "python",
   "pygments_lexer": "ipython3",
   "version": "3.12.7"
  }
 },
 "nbformat": 4,
 "nbformat_minor": 5
}
