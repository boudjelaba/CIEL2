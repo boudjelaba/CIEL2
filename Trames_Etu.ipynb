{
 "cells": [
  {
   "cell_type": "markdown",
   "id": "acd59e28-bf9b-4e9a-ab66-d0f1ed89a153",
   "metadata": {},
   "source": [
    "## Séparation des chaînes de caractères"
   ]
  },
  {
   "cell_type": "code",
   "execution_count": 8,
   "id": "b759a919-dfdc-44ce-a89f-2d066dfdb701",
   "metadata": {},
   "outputs": [
    {
     "name": "stdout",
     "output_type": "stream",
     "text": [
      "Phrase originale : Lycée Charles Carnus\n",
      "['Lycée', 'Charles', 'Carnus']\n",
      "Lycée\n",
      "Charles\n",
      "Carnus\n"
     ]
    }
   ],
   "source": [
    "import re\n",
    "\n",
    "phrase = \"Lycée Charles Carnus\"\n",
    "print(\"Phrase originale :\",phrase)\n",
    "\n",
    "mots = re.split(\"[ ]+\", phrase)\n",
    "print(mots)\n",
    "print(mots[0])\n",
    "print(mots[1])\n",
    "print(mots[2])"
   ]
  },
  {
   "cell_type": "code",
   "execution_count": 13,
   "id": "9d19ddc1-58c6-4144-84ab-482044f5eb85",
   "metadata": {},
   "outputs": [
    {
     "name": "stdout",
     "output_type": "stream",
     "text": [
      "Date originale : 17/12/2024\n",
      "['17', '12', '2024']\n",
      "Jour : 17\n",
      "<class 'str'>\n",
      "Mois : 12\n",
      "<class 'str'>\n",
      "Année : 2024\n",
      "<class 'str'>\n"
     ]
    }
   ],
   "source": [
    "import re\n",
    "\n",
    "date = \"17/12/2024\"\n",
    "print(\"Date originale :\",date)\n",
    "\n",
    "donnees = re.split(\"[/]+\", date)\n",
    "print(chiffres)\n",
    "print(\"Jour :\",donnees[0])\n",
    "print(type(donnees[0]))\n",
    "print(\"Mois :\",donnees[1])\n",
    "print(type(donnees[1]))\n",
    "print(\"Année :\",donnees[2])\n",
    "print(type(donnees[2]))"
   ]
  },
  {
   "cell_type": "code",
   "execution_count": 11,
   "id": "b3137583-4766-4052-8700-ae4173174229",
   "metadata": {},
   "outputs": [
    {
     "name": "stdout",
     "output_type": "stream",
     "text": [
      "Date originale : 17/12/2024\n",
      "['17', '12', '2024']\n",
      "Jour : 17\n",
      "Mois : 12\n",
      "Année : 2024\n",
      "17.0\n",
      "<class 'float'>\n",
      "12.0\n",
      "<class 'float'>\n",
      "2024.0\n",
      "<class 'float'>\n"
     ]
    }
   ],
   "source": [
    "import re\n",
    "\n",
    "date = \"17/12/2024\"\n",
    "print(\"Date originale :\",date)\n",
    "\n",
    "donnees = re.split(\"[/]+\", date)\n",
    "print(chiffres)\n",
    "print(\"Jour :\",donnees[0])\n",
    "print(\"Mois :\",donnees[1])\n",
    "print(\"Année :\",donnees[2])\n",
    "\n",
    "jour = float(donnees[0])\n",
    "mois = float(donnees[1])\n",
    "annee = float(donnees[2])\n",
    "print(jour)\n",
    "print(type(jour))\n",
    "print(mois)\n",
    "print(type(mois))\n",
    "print(annee)\n",
    "print(type(annee))"
   ]
  },
  {
   "cell_type": "markdown",
   "id": "f1790e82-40eb-4cbc-af0f-4e2d7b59aba5",
   "metadata": {},
   "source": [
    "## Concaténation de chaînes de caractères"
   ]
  },
  {
   "cell_type": "code",
   "execution_count": 24,
   "id": "86aac426-2bd5-40c2-b9ed-ba315b28949d",
   "metadata": {},
   "outputs": [
    {
     "name": "stdout",
     "output_type": "stream",
     "text": [
      "CharlesCarnus\n",
      "Charles Carnus\n",
      "Charles-Carnus\n"
     ]
    }
   ],
   "source": [
    "import re\n",
    "mot1 = \"Charles\"\n",
    "mot2 = \"Carnus\"\n",
    "nom1 = mot1 + mot2\n",
    "print(nom1)\n",
    "nom2 = mot1 + \" \" + mot2\n",
    "print(nom2)\n",
    "nom3 = mot1 + \"-\" + mot2\n",
    "print(nom3)"
   ]
  },
  {
   "cell_type": "markdown",
   "id": "aa22ed53-ee0b-4933-8cc2-0bba5e75b218",
   "metadata": {},
   "source": [
    "## Création d'une trame à partir de données"
   ]
  },
  {
   "cell_type": "code",
   "execution_count": 16,
   "id": "c8198ea0-bd61-4c79-a456-fda1bdd98b76",
   "metadata": {},
   "outputs": [
    {
     "name": "stdout",
     "output_type": "stream",
     "text": [
      "http://192.168.0.2/insert_temp.php?temperature=18.5\n"
     ]
    }
   ],
   "source": [
    "adresse_ip = \"http://192.168.0.2\"\n",
    "prog_exe   = \"/insert_temp.php\"\n",
    "donnee = \"?temperature=18.5\"\n",
    "trame = adresse_ip + prog_exe + donnee\n",
    "print(trame)"
   ]
  },
  {
   "cell_type": "markdown",
   "id": "7b94dd09-4525-4611-8980-426b00e64e8e",
   "metadata": {},
   "source": [
    "---\n",
    "## Exercice\n",
    "Créer et afficher la trame suivante :\n",
    "\n",
    "`https://carnus.fr/post-esp-data.php?api=tPiRcTemp5C24j2M12&capteur=DHT11&localisation=Salle215&valeur1=18.9&valeur2=76&valeur3=5.4`"
   ]
  },
  {
   "cell_type": "code",
   "execution_count": null,
   "id": "bdec4605-9c44-4d77-9457-d1ed755424f2",
   "metadata": {},
   "outputs": [],
   "source": []
  },
  {
   "cell_type": "markdown",
   "id": "f7dd3b86-fd60-46a8-a393-05f7179b3bb3",
   "metadata": {},
   "source": [
    "---\n",
    "## Extraction des données à partir d'une trame"
   ]
  },
  {
   "cell_type": "code",
   "execution_count": 37,
   "id": "869d3f52-b0e0-4f02-aac6-effee4f63595",
   "metadata": {},
   "outputs": [
    {
     "name": "stdout",
     "output_type": "stream",
     "text": [
      "Trame originale : http://192.168.0.2/insert_temp.php?temperature=18.5\n",
      "liste1 : ['http://192.168.0.2/insert_temp.php', 'temperature=18.5']\n",
      "liste2 : ['http://192.168.0.2/insert_temp.php?temperature', '18.5']\n",
      "La valeur de la température est : 18.5\n",
      "La température est de type : <class 'float'>\n",
      "IP : 192.168.0.2\n",
      "http://192.168.0.2/insert_temp.php\n",
      "?\n",
      "temperature=18.5\n"
     ]
    }
   ],
   "source": [
    "import re\n",
    "\n",
    "trame = \"http://192.168.0.2/insert_temp.php?temperature=18.5\"\n",
    "print(\"Trame originale :\",trame)\n",
    "\n",
    "\n",
    "liste1 = re.split(\"[?]+\", trame)\n",
    "print(\"liste1 :\",liste1)\n",
    "liste2 = re.split(\"[=]+\", trame)\n",
    "print(\"liste2 :\",liste2)\n",
    "temp = float(liste2[1])\n",
    "print(\"La valeur de la température est :\",temp)\n",
    "print(\"La température est de type :\",type(temp))\n",
    "\n",
    "print(\"IP :\",trame.split(\"/\")[2])\n",
    "\n",
    "debut, x, donnees = trame.partition(\"?\")\n",
    "print(debut)\n",
    "print(x)\n",
    "print(donnees)"
   ]
  },
  {
   "cell_type": "code",
   "execution_count": 65,
   "id": "31e73e94-63d7-4668-b452-a022fb3283a6",
   "metadata": {},
   "outputs": [
    {
     "name": "stdout",
     "output_type": "stream",
     "text": [
      "Trame originale : http://192.168.0.2/insert_temp.php?api=tPiRcTemp5C24j2M12&temperature=18.5\n",
      "liste : ['http://192.168.0.2/insert_temp.php', 'api=tPiRcTemp5C24j2M12&temperature=18.5']\n",
      "liste utile : api=tPiRcTemp5C24j2M12&temperature=18.5\n",
      "\n",
      "Le contenu : ['api=tPiRcTemp5C24j2M12', 'temperature=18.5']\n",
      "<class 'list'>\n",
      "\n",
      "['api', 'tPiRcTemp5C24j2M12']\n",
      "api\n",
      "tPiRcTemp5C24j2M12\n",
      "\n",
      "['temperature', '18.5']\n",
      "temperature\n",
      "18.5\n"
     ]
    }
   ],
   "source": [
    "import re\n",
    "import numpy as np\n",
    "\n",
    "trame = \"http://192.168.0.2/insert_temp.php?api=tPiRcTemp5C24j2M12&temperature=18.5\"\n",
    "print(\"Trame originale :\",trame)\n",
    "\n",
    "liste = re.split(\"[?]+\", trame)\n",
    "print(\"liste :\",liste)\n",
    "listeUtile = liste[1]\n",
    "print(\"liste utile :\",listeUtile)\n",
    "\n",
    "print(\"\")\n",
    "\n",
    "contenu = re.split(\"[&]+\", listeUtile)\n",
    "print(\"Le contenu :\",contenu)\n",
    "print(type(contenu))\n",
    "\n",
    "print(\"\")\n",
    "\n",
    "cont1 = re.split(\"[=]+\", contenu[0])\n",
    "print(cont1)\n",
    "print(cont1[0])\n",
    "print(cont1[1])\n",
    "\n",
    "print(\"\")\n",
    "\n",
    "cont2 = re.split(\"[=]+\", contenu[1])\n",
    "print(cont2)\n",
    "print(cont2[0])\n",
    "print(cont2[1])"
   ]
  },
  {
   "cell_type": "markdown",
   "id": "8befa691-955c-49af-93da-23c41f159d44",
   "metadata": {},
   "source": [
    "---\n",
    "## Exercice\n",
    "\n",
    "A partir de cette trame : \\\n",
    "`https://api.openweathermap.org/data/2.5/forecast?lat=44.35&lon=2.57&appid=f3232c425c56a24174dd4afc5528a&lang=fr&units=metric`\n",
    "\n",
    "Extraire les informations suivantes :\n",
    "- Le site internet de l'application\n",
    "- La latitude\n",
    "- La longitude\n",
    "- Le système d'unité utilisé\n",
    "- La langue d'affichage"
   ]
  },
  {
   "cell_type": "code",
   "execution_count": null,
   "id": "55a2045d-3080-4e11-a447-69f14cbf5c5e",
   "metadata": {},
   "outputs": [],
   "source": []
  },
  {
   "cell_type": "markdown",
   "id": "bf2b8c1e-e485-4ce1-88e2-0a116dd976b4",
   "metadata": {},
   "source": [
    "---\n",
    "## Exercice\n",
    "\n",
    "Le code PHP à exécuter se trouve dans un répertoire défini comme suit :\n",
    "\n",
    "\n",
    "```\n",
    "📦 XAMPP\n",
    "┗ 📂 htdocs\n",
    "   ┗ 📂 Domotique\n",
    "      ┣ 📜 acquisition.php\n",
    "      ┣ 📜 config.php\n",
    "      ┣ 📂 sty\n",
    "      ┃  ┗ 📜 style.css\n",
    "      ┣ 📂 img\n",
    "      ┃  ┣ 🖼 img1.png\n",
    "      ┃  ┗ 🖼 img2.jpg\n",
    "      ┣ 📂 sql\n",
    "      ┗  ┗ 📜 bdd.sql\n",
    "```\n",
    "\n",
    "Créer une trame à partir des données suivantes :\n",
    "\n",
    "- code : acquisition.php\n",
    "- capteur n° : 1, valeur : 2.25\n",
    "- capteur n° : 2, valeur : -5.3"
   ]
  },
  {
   "cell_type": "code",
   "execution_count": null,
   "id": "10b8aecc-f6c2-4e9c-8c57-e3c328ef1e3b",
   "metadata": {},
   "outputs": [],
   "source": []
  }
 ],
 "metadata": {
  "kernelspec": {
   "display_name": "Python 3 (ipykernel)",
   "language": "python",
   "name": "python3"
  },
  "language_info": {
   "codemirror_mode": {
    "name": "ipython",
    "version": 3
   },
   "file_extension": ".py",
   "mimetype": "text/x-python",
   "name": "python",
   "nbconvert_exporter": "python",
   "pygments_lexer": "ipython3",
   "version": "3.12.7"
  }
 },
 "nbformat": 4,
 "nbformat_minor": 5
}
