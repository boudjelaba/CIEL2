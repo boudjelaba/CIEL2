{
 "cells": [
  {
   "cell_type": "markdown",
   "metadata": {},
   "source": [
    "# <cite><font color=\"C32F23\">Manipulation de fichiers et traitement de données sous Python avec Pandas</font></cite>\n",
    "\n",
    "<div style=\"border:thin solid orange\">\n",
    "</div>\n",
    "\n",
    "Carnus - K. Boudjelaba\n",
    "\n",
    "Contact : <font size=\"4\"><a href=\"mailto:k.boudjelaba@carnus.fr\" class=\"button\"><span class=\"delete\">Mail</span></a></font>\n",
    "\n",
    "Lien utile : <font size=\"4\"><a href=\"https:www.carnus.fr\" class=\"button\"><span class=\"user\">Lycée Charles Carnus</span></a></font>\n",
    "   \n",
    "<img src=\"https://github.com/boudjelaba/Utiles/blob/main/Logo/Carnus_1.png?raw=true\"\n",
    "     alt=\"Logo Carnus\"\n",
    "     style=\"float: right; margin-right: 380px;\" \n",
    "     width=100cm  />\n",
    "\n",
    "<div style=\"border:thin solid orange\">\n",
    "</div>"
   ]
  },
  {
   "cell_type": "markdown",
   "metadata": {},
   "source": [
    "<div class=\"alert alert-block alert-info\">\n",
    "    \n",
    "### Table des matières :\n",
    "\n",
    "\n",
    "---\n",
    "* <a href=\"#P0\">Installation de la librairie Pandas </a> <br>\n",
    "* <a href=\"#P1\">Manipulation de fichiers avec Pandas </a> <br>\n",
    "    * <a href=\"#P11\">Fichiers CSV </a> <br>\n",
    "        * <a href=\"#P111\">Création et écriture d'un fichier CSV </a> <br>\n",
    "        * <a href=\"#P112\">Ouverture du fichier créé </a> <br>\n",
    "        * <a href=\"#P113\">Manipulation des données </a> <br>\n",
    "        * <a href=\"#P114\">Enregistrement des données dans un fichier CSV </a> <br>\n",
    "        * <a href=\"#P115\">Lecture fichier texte </a> <br>\n",
    "* <a href=\"#P2\">Exercices </a> <br>\n",
    "    * <a href=\"#P21\">Exercice 1 </a> <br>\n",
    "    * <a href=\"#P22\">Exercice 2 </a> <br>\n",
    "    * <a href=\"#P23\">Exercice 3 </a> <br>\n",
    "---\n",
    "\n",
    "</div>    "
   ]
  },
  {
   "cell_type": "markdown",
   "metadata": {},
   "source": [
    "<a id=\"P0\"></a>\n",
    "## <cite><font color=\"C32F23\"> Installation de la librairie Pandas : </font></cite>\n",
    "\n",
    "![](Insta.png)\n",
    "\n",
    "### Autres méthodes d'installation :\n",
    "\n",
    "- Vous pouvez l'installer via le Terminal :\n",
    "\n",
    "`pip install pandas`\n",
    "\n",
    "Ou\n",
    "\n",
    "`conda install pandas`"
   ]
  },
  {
   "cell_type": "markdown",
   "metadata": {},
   "source": [
    "<a id=\"P1\"></a>\n",
    "## <cite><font color=\"C32F23\"> Manipulation de fichiers avec Pandas : </font></cite>\n",
    "\n",
    "<a id=\"P11\"></a>\n",
    "## <cite><font color=\"FBB903\"> Fichiers CSV : </font></cite>\n",
    "\n",
    "<div style=\"border:thin solid green\">\n",
    "</div>\n",
    "\n",
    "<a id=\"P111\"></a>\n",
    "### Création et écriture d'un fichier CSV :"
   ]
  },
  {
   "cell_type": "code",
   "execution_count": 130,
   "metadata": {},
   "outputs": [],
   "source": [
    "import csv\n",
    "with open('Tempo.csv', 'w', newline='') as file:\n",
    "    writer = csv.writer(file)\n",
    "    writer.writerow([\"SN\", \"Nom\", \"Logiciel\", \"Date\", \"Entier\", \"Réel\"])\n",
    "    writer.writerow([1, \"Linux\", \"Matlab\", \"11/01/2020\", 20, 3])\n",
    "    writer.writerow([2, \"Mac Os\", \"LTspice\", \"12/02/2020\", 50, 4.5])\n",
    "    writer.writerow([3, \"Windows-10\", \"Python 3\", \"14/01/2021\", 30, 0.76])"
   ]
  },
  {
   "cell_type": "markdown",
   "metadata": {},
   "source": [
    "<a id=\"P112\"></a>\n",
    "### Ouverture du fichier créé :"
   ]
  },
  {
   "cell_type": "code",
   "execution_count": 131,
   "metadata": {},
   "outputs": [
    {
     "data": {
      "text/html": [
       "<div>\n",
       "<style scoped>\n",
       "    .dataframe tbody tr th:only-of-type {\n",
       "        vertical-align: middle;\n",
       "    }\n",
       "\n",
       "    .dataframe tbody tr th {\n",
       "        vertical-align: top;\n",
       "    }\n",
       "\n",
       "    .dataframe thead th {\n",
       "        text-align: right;\n",
       "    }\n",
       "</style>\n",
       "<table border=\"1\" class=\"dataframe\">\n",
       "  <thead>\n",
       "    <tr style=\"text-align: right;\">\n",
       "      <th></th>\n",
       "      <th>SN</th>\n",
       "      <th>Nom</th>\n",
       "      <th>Logiciel</th>\n",
       "      <th>Date</th>\n",
       "      <th>Entier</th>\n",
       "      <th>Réel</th>\n",
       "    </tr>\n",
       "  </thead>\n",
       "  <tbody>\n",
       "    <tr>\n",
       "      <th>0</th>\n",
       "      <td>1</td>\n",
       "      <td>Linux</td>\n",
       "      <td>Matlab</td>\n",
       "      <td>11/01/2020</td>\n",
       "      <td>20</td>\n",
       "      <td>3.00</td>\n",
       "    </tr>\n",
       "    <tr>\n",
       "      <th>1</th>\n",
       "      <td>2</td>\n",
       "      <td>Mac Os</td>\n",
       "      <td>LTspice</td>\n",
       "      <td>12/02/2020</td>\n",
       "      <td>50</td>\n",
       "      <td>4.50</td>\n",
       "    </tr>\n",
       "    <tr>\n",
       "      <th>2</th>\n",
       "      <td>3</td>\n",
       "      <td>Windows-10</td>\n",
       "      <td>Python 3</td>\n",
       "      <td>14/01/2021</td>\n",
       "      <td>30</td>\n",
       "      <td>0.76</td>\n",
       "    </tr>\n",
       "  </tbody>\n",
       "</table>\n",
       "</div>"
      ],
      "text/plain": [
       "   SN         Nom  Logiciel        Date  Entier  Réel\n",
       "0   1       Linux    Matlab  11/01/2020      20  3.00\n",
       "1   2      Mac Os   LTspice  12/02/2020      50  4.50\n",
       "2   3  Windows-10  Python 3  14/01/2021      30  0.76"
      ]
     },
     "execution_count": 131,
     "metadata": {},
     "output_type": "execute_result"
    }
   ],
   "source": [
    "import pandas as pd\n",
    "df = pd.read_csv('Tempo.csv')\n",
    "df.head()"
   ]
  },
  {
   "cell_type": "code",
   "execution_count": 132,
   "metadata": {},
   "outputs": [
    {
     "data": {
      "text/plain": [
       "(3, 6)"
      ]
     },
     "execution_count": 132,
     "metadata": {},
     "output_type": "execute_result"
    }
   ],
   "source": [
    "df.shape"
   ]
  },
  {
   "cell_type": "markdown",
   "metadata": {},
   "source": [
    "<a id=\"P113\"></a>\n",
    "### Manipulation des données :\n",
    "#### Vérification du type de données :"
   ]
  },
  {
   "cell_type": "code",
   "execution_count": 133,
   "metadata": {},
   "outputs": [
    {
     "name": "stdout",
     "output_type": "stream",
     "text": [
      "<class 'numpy.int64'>\n"
     ]
    }
   ],
   "source": [
    "print(type(df['SN'][0]))"
   ]
  },
  {
   "cell_type": "code",
   "execution_count": 134,
   "metadata": {},
   "outputs": [
    {
     "name": "stdout",
     "output_type": "stream",
     "text": [
      "<class 'str'>\n"
     ]
    }
   ],
   "source": [
    "print(type(df['Nom'][0]))"
   ]
  },
  {
   "cell_type": "code",
   "execution_count": 135,
   "metadata": {},
   "outputs": [
    {
     "name": "stdout",
     "output_type": "stream",
     "text": [
      "<class 'str'>\n"
     ]
    }
   ],
   "source": [
    "print(type(df['Logiciel'][0]))"
   ]
  },
  {
   "cell_type": "code",
   "execution_count": 136,
   "metadata": {},
   "outputs": [
    {
     "name": "stdout",
     "output_type": "stream",
     "text": [
      "<class 'str'>\n"
     ]
    }
   ],
   "source": [
    "print(type(df['Date'][0]))"
   ]
  },
  {
   "cell_type": "code",
   "execution_count": 137,
   "metadata": {},
   "outputs": [
    {
     "name": "stdout",
     "output_type": "stream",
     "text": [
      "<class 'numpy.int64'>\n"
     ]
    }
   ],
   "source": [
    "print(type(df['Entier'][0]))"
   ]
  },
  {
   "cell_type": "code",
   "execution_count": 138,
   "metadata": {},
   "outputs": [
    {
     "name": "stdout",
     "output_type": "stream",
     "text": [
      "<class 'numpy.float64'>\n"
     ]
    }
   ],
   "source": [
    "print(type(df['Réel'][0]))"
   ]
  },
  {
   "cell_type": "markdown",
   "metadata": {},
   "source": [
    "#### Changement de format pour la date :"
   ]
  },
  {
   "cell_type": "code",
   "execution_count": 139,
   "metadata": {},
   "outputs": [
    {
     "data": {
      "text/html": [
       "<div>\n",
       "<style scoped>\n",
       "    .dataframe tbody tr th:only-of-type {\n",
       "        vertical-align: middle;\n",
       "    }\n",
       "\n",
       "    .dataframe tbody tr th {\n",
       "        vertical-align: top;\n",
       "    }\n",
       "\n",
       "    .dataframe thead th {\n",
       "        text-align: right;\n",
       "    }\n",
       "</style>\n",
       "<table border=\"1\" class=\"dataframe\">\n",
       "  <thead>\n",
       "    <tr style=\"text-align: right;\">\n",
       "      <th></th>\n",
       "      <th>SN</th>\n",
       "      <th>Nom</th>\n",
       "      <th>Logiciel</th>\n",
       "      <th>Date</th>\n",
       "      <th>Entier</th>\n",
       "      <th>Réel</th>\n",
       "    </tr>\n",
       "  </thead>\n",
       "  <tbody>\n",
       "    <tr>\n",
       "      <th>0</th>\n",
       "      <td>1</td>\n",
       "      <td>Linux</td>\n",
       "      <td>Matlab</td>\n",
       "      <td>2020-11-01</td>\n",
       "      <td>20</td>\n",
       "      <td>3.00</td>\n",
       "    </tr>\n",
       "    <tr>\n",
       "      <th>1</th>\n",
       "      <td>2</td>\n",
       "      <td>Mac Os</td>\n",
       "      <td>LTspice</td>\n",
       "      <td>2020-12-02</td>\n",
       "      <td>50</td>\n",
       "      <td>4.50</td>\n",
       "    </tr>\n",
       "    <tr>\n",
       "      <th>2</th>\n",
       "      <td>3</td>\n",
       "      <td>Windows-10</td>\n",
       "      <td>Python 3</td>\n",
       "      <td>2021-01-14</td>\n",
       "      <td>30</td>\n",
       "      <td>0.76</td>\n",
       "    </tr>\n",
       "  </tbody>\n",
       "</table>\n",
       "</div>"
      ],
      "text/plain": [
       "   SN         Nom  Logiciel       Date  Entier  Réel\n",
       "0   1       Linux    Matlab 2020-11-01      20  3.00\n",
       "1   2      Mac Os   LTspice 2020-12-02      50  4.50\n",
       "2   3  Windows-10  Python 3 2021-01-14      30  0.76"
      ]
     },
     "execution_count": 139,
     "metadata": {},
     "output_type": "execute_result"
    }
   ],
   "source": [
    "import pandas\n",
    "df = pandas.read_csv('Tempo.csv', parse_dates=['Date'])\n",
    "df.head()"
   ]
  },
  {
   "cell_type": "markdown",
   "metadata": {},
   "source": [
    "__Remarque :__ La conversion est réalisée suivant le standard américain pour coder les dates (mois/jour/année). Alors qu'en France la date est codée différemment (jour/mois/année). Pour la troisième ligne, Python a trouvé que le numéro du mois est >12 et il a permuté le mois et le jour."
   ]
  },
  {
   "cell_type": "code",
   "execution_count": 140,
   "metadata": {},
   "outputs": [
    {
     "name": "stdout",
     "output_type": "stream",
     "text": [
      "<class 'pandas._libs.tslibs.timestamps.Timestamp'>\n"
     ]
    }
   ],
   "source": [
    "print(type(df['Date'][0]))"
   ]
  },
  {
   "cell_type": "markdown",
   "metadata": {},
   "source": [
    "#### Affichage des colonnes :"
   ]
  },
  {
   "cell_type": "code",
   "execution_count": 141,
   "metadata": {},
   "outputs": [
    {
     "data": {
      "text/html": [
       "<div>\n",
       "<style scoped>\n",
       "    .dataframe tbody tr th:only-of-type {\n",
       "        vertical-align: middle;\n",
       "    }\n",
       "\n",
       "    .dataframe tbody tr th {\n",
       "        vertical-align: top;\n",
       "    }\n",
       "\n",
       "    .dataframe thead th {\n",
       "        text-align: right;\n",
       "    }\n",
       "</style>\n",
       "<table border=\"1\" class=\"dataframe\">\n",
       "  <thead>\n",
       "    <tr style=\"text-align: right;\">\n",
       "      <th></th>\n",
       "      <th>SN</th>\n",
       "      <th>Nom</th>\n",
       "    </tr>\n",
       "  </thead>\n",
       "  <tbody>\n",
       "    <tr>\n",
       "      <th>0</th>\n",
       "      <td>1</td>\n",
       "      <td>Linux</td>\n",
       "    </tr>\n",
       "    <tr>\n",
       "      <th>1</th>\n",
       "      <td>2</td>\n",
       "      <td>Mac Os</td>\n",
       "    </tr>\n",
       "    <tr>\n",
       "      <th>2</th>\n",
       "      <td>3</td>\n",
       "      <td>Windows-10</td>\n",
       "    </tr>\n",
       "  </tbody>\n",
       "</table>\n",
       "</div>"
      ],
      "text/plain": [
       "   SN         Nom\n",
       "0   1       Linux\n",
       "1   2      Mac Os\n",
       "2   3  Windows-10"
      ]
     },
     "execution_count": 141,
     "metadata": {},
     "output_type": "execute_result"
    }
   ],
   "source": [
    "import pandas as pd\n",
    "df.iloc[:,:2]"
   ]
  },
  {
   "cell_type": "code",
   "execution_count": 142,
   "metadata": {},
   "outputs": [
    {
     "data": {
      "text/plain": [
       "0    20\n",
       "1    50\n",
       "2    30\n",
       "Name: Entier, dtype: int64"
      ]
     },
     "execution_count": 142,
     "metadata": {},
     "output_type": "execute_result"
    }
   ],
   "source": [
    "import pandas as pd\n",
    "df.iloc[:,(4)]"
   ]
  },
  {
   "cell_type": "code",
   "execution_count": 143,
   "metadata": {},
   "outputs": [
    {
     "data": {
      "text/html": [
       "<div>\n",
       "<style scoped>\n",
       "    .dataframe tbody tr th:only-of-type {\n",
       "        vertical-align: middle;\n",
       "    }\n",
       "\n",
       "    .dataframe tbody tr th {\n",
       "        vertical-align: top;\n",
       "    }\n",
       "\n",
       "    .dataframe thead th {\n",
       "        text-align: right;\n",
       "    }\n",
       "</style>\n",
       "<table border=\"1\" class=\"dataframe\">\n",
       "  <thead>\n",
       "    <tr style=\"text-align: right;\">\n",
       "      <th></th>\n",
       "      <th>Nom</th>\n",
       "      <th>Date</th>\n",
       "    </tr>\n",
       "  </thead>\n",
       "  <tbody>\n",
       "    <tr>\n",
       "      <th>0</th>\n",
       "      <td>Linux</td>\n",
       "      <td>11/01/2020</td>\n",
       "    </tr>\n",
       "    <tr>\n",
       "      <th>1</th>\n",
       "      <td>Mac Os</td>\n",
       "      <td>12/02/2020</td>\n",
       "    </tr>\n",
       "    <tr>\n",
       "      <th>2</th>\n",
       "      <td>Windows-10</td>\n",
       "      <td>14/01/2021</td>\n",
       "    </tr>\n",
       "  </tbody>\n",
       "</table>\n",
       "</div>"
      ],
      "text/plain": [
       "          Nom        Date\n",
       "0       Linux  11/01/2020\n",
       "1      Mac Os  12/02/2020\n",
       "2  Windows-10  14/01/2021"
      ]
     },
     "execution_count": 143,
     "metadata": {},
     "output_type": "execute_result"
    }
   ],
   "source": [
    "import pandas as pd\n",
    "d1 = pd.read_csv(\"Tempo.csv\", usecols=[1,3])\n",
    "d1.head()"
   ]
  },
  {
   "cell_type": "markdown",
   "metadata": {},
   "source": [
    "<a id=\"P114\"></a>\n",
    "### Enregistrement des données dans un fichier CSV :"
   ]
  },
  {
   "cell_type": "code",
   "execution_count": 144,
   "metadata": {},
   "outputs": [
    {
     "data": {
      "image/png": "[encoded data removed]",
      "text/plain": [
       "<Figure size 432x288 with 1 Axes>"
      ]
     },
     "metadata": {
      "needs_background": "light"
     },
     "output_type": "display_data"
    },
    {
     "data": {
      "text/plain": [
       "<Figure size 432x288 with 0 Axes>"
      ]
     },
     "metadata": {},
     "output_type": "display_data"
    }
   ],
   "source": [
    "import numpy as np\n",
    "import matplotlib.pyplot as plt\n",
    "%matplotlib inline\n",
    "\n",
    "t = np.linspace(0,2*np.pi,50,endpoint=True)\n",
    "s1 = np.sin(t)\n",
    "s2 = np.cos(t)\n",
    "\n",
    "data = np.zeros((len(t),3))\n",
    "data[:,0] = t\n",
    "data[:,1] = s1\n",
    "data[:,2] = s2\n",
    "\n",
    "np.savetxt(\"sin_cos.csv\",data,delimiter=\",\",header=\"t,Sinus,Cosinus\",comments=\"\")\n",
    "\n",
    "plt.figure()\n",
    "plt.plot(t,s1,t,s2)\n",
    "plt.grid()\n",
    "plt.show()\n",
    "plt.savefig('LaFigure.png')"
   ]
  },
  {
   "cell_type": "code",
   "execution_count": 145,
   "metadata": {},
   "outputs": [
    {
     "data": {
      "text/html": [
       "<div>\n",
       "<style scoped>\n",
       "    .dataframe tbody tr th:only-of-type {\n",
       "        vertical-align: middle;\n",
       "    }\n",
       "\n",
       "    .dataframe tbody tr th {\n",
       "        vertical-align: top;\n",
       "    }\n",
       "\n",
       "    .dataframe thead th {\n",
       "        text-align: right;\n",
       "    }\n",
       "</style>\n",
       "<table border=\"1\" class=\"dataframe\">\n",
       "  <thead>\n",
       "    <tr style=\"text-align: right;\">\n",
       "      <th></th>\n",
       "      <th>t</th>\n",
       "      <th>Sinus</th>\n",
       "      <th>Cosinus</th>\n",
       "    </tr>\n",
       "  </thead>\n",
       "  <tbody>\n",
       "    <tr>\n",
       "      <th>0</th>\n",
       "      <td>0.000000</td>\n",
       "      <td>0.000000</td>\n",
       "      <td>1.000000</td>\n",
       "    </tr>\n",
       "    <tr>\n",
       "      <th>1</th>\n",
       "      <td>0.128228</td>\n",
       "      <td>0.127877</td>\n",
       "      <td>0.991790</td>\n",
       "    </tr>\n",
       "    <tr>\n",
       "      <th>2</th>\n",
       "      <td>0.256457</td>\n",
       "      <td>0.253655</td>\n",
       "      <td>0.967295</td>\n",
       "    </tr>\n",
       "    <tr>\n",
       "      <th>3</th>\n",
       "      <td>0.384685</td>\n",
       "      <td>0.375267</td>\n",
       "      <td>0.926917</td>\n",
       "    </tr>\n",
       "    <tr>\n",
       "      <th>4</th>\n",
       "      <td>0.512913</td>\n",
       "      <td>0.490718</td>\n",
       "      <td>0.871319</td>\n",
       "    </tr>\n",
       "  </tbody>\n",
       "</table>\n",
       "</div>"
      ],
      "text/plain": [
       "          t     Sinus   Cosinus\n",
       "0  0.000000  0.000000  1.000000\n",
       "1  0.128228  0.127877  0.991790\n",
       "2  0.256457  0.253655  0.967295\n",
       "3  0.384685  0.375267  0.926917\n",
       "4  0.512913  0.490718  0.871319"
      ]
     },
     "execution_count": 145,
     "metadata": {},
     "output_type": "execute_result"
    }
   ],
   "source": [
    "import pandas as pd\n",
    "d = pd.read_csv(\"sin_cos.csv\")\n",
    "d.head()"
   ]
  },
  {
   "cell_type": "code",
   "execution_count": 146,
   "metadata": {},
   "outputs": [
    {
     "data": {
      "text/plain": [
       "(50, 3)"
      ]
     },
     "execution_count": 146,
     "metadata": {},
     "output_type": "execute_result"
    }
   ],
   "source": [
    "d.shape"
   ]
  },
  {
   "cell_type": "markdown",
   "metadata": {},
   "source": [
    "#### Manipulation de données :"
   ]
  },
  {
   "cell_type": "code",
   "execution_count": 147,
   "metadata": {},
   "outputs": [
    {
     "name": "stdout",
     "output_type": "stream",
     "text": [
      "liste originale : ['BTS', '1', 'SN', '2', 'ec']\n",
      "Liste après conversion : ['BTS', 1, 'SN', 2, 'ec']\n"
     ]
    }
   ],
   "source": [
    "test_list = [\"BTS\", \"1\", \"SN\", \"2\", \"ec\"] \n",
    "print(\"liste originale : \" + str(test_list)) \n",
    "# Conversion chaine caractères en liste d'entiers et autres \n",
    "res = [int(ele) if ele.isdigit() else ele for ele in test_list] \n",
    "print(\"Liste après conversion : \" + str(res)) "
   ]
  },
  {
   "cell_type": "code",
   "execution_count": 148,
   "metadata": {},
   "outputs": [
    {
     "name": "stdout",
     "output_type": "stream",
     "text": [
      "['103', '101', '102', '103']\n"
     ]
    },
    {
     "data": {
      "text/plain": [
       "[<matplotlib.lines.Line2D at 0x7f77f2106550>]"
      ]
     },
     "execution_count": 148,
     "metadata": {},
     "output_type": "execute_result"
    },
    {
     "data": {
      "image/png": "[encoded data removed]",
      "text/plain": [
       "<Figure size 432x288 with 1 Axes>"
      ]
     },
     "metadata": {
      "needs_background": "light"
     },
     "output_type": "display_data"
    }
   ],
   "source": [
    "import numpy as np\n",
    "import matplotlib.pyplot as plt\n",
    "%matplotlib inline\n",
    "\n",
    "Ch = [\"a'103,10\\\\r\\n\", \"b'101,14\\\\r\\n\", \"c'102,16\\\\r\\n\", \"d'103,18\\\\r\\n\"]\n",
    "\n",
    "def nettoyage(Liste):\n",
    "    newListe = []\n",
    "    for i in range(len(Liste)):\n",
    "        tempListe = Liste[i][2:]\n",
    "        newListe.append(tempListe[:-6])\n",
    "    return newListe\n",
    "NCh = nettoyage(Ch)\n",
    "print(NCh)\n",
    "\n",
    "def ecrire(Liste):\n",
    "    file = open(\"FichierTXT.txt\",mode=\"w\")\n",
    "    for i in range(len(Liste)):\n",
    "        file.write(Liste[i]+'\\n')\n",
    "    file.close()\n",
    "\n",
    "ecrire(NCh)\n",
    "\n",
    "val1 = np.loadtxt(\"FichierTXT.txt\", unpack=True)\n",
    "\n",
    "plt.figure()\n",
    "plt.plot(val1)"
   ]
  },
  {
   "cell_type": "markdown",
   "metadata": {},
   "source": [
    "__Remarque :__ Le délimiteur peut être un espace, un double espace | , ; \\t ..."
   ]
  },
  {
   "cell_type": "markdown",
   "metadata": {},
   "source": [
    "<a id=\"P115\"></a>\n",
    "### Lecture fichier texte :"
   ]
  },
  {
   "cell_type": "code",
   "execution_count": 149,
   "metadata": {},
   "outputs": [
    {
     "data": {
      "image/png": "[encoded data removed]",
      "text/plain": [
       "<Figure size 432x288 with 1 Axes>"
      ]
     },
     "metadata": {
      "needs_background": "light"
     },
     "output_type": "display_data"
    }
   ],
   "source": [
    "import matplotlib.pyplot as plt\n",
    "import numpy as np\n",
    "%matplotlib inline\n",
    "\n",
    "f = open(\"txt/Donnees.txt\" , 'r')\n",
    "f.readline()\n",
    "data = np.loadtxt(f)\n",
    "f.close()\n",
    "\n",
    "plt.figure()\n",
    "plt.plot(data[:,0],data[:,1],\"r-\")\n",
    "plt.plot(data[:,0],data[:,2],\"b-\")\n",
    "plt.grid()\n",
    "plt.show()"
   ]
  },
  {
   "cell_type": "code",
   "execution_count": 150,
   "metadata": {},
   "outputs": [
    {
     "data": {
      "text/html": [
       "<div>\n",
       "<style scoped>\n",
       "    .dataframe tbody tr th:only-of-type {\n",
       "        vertical-align: middle;\n",
       "    }\n",
       "\n",
       "    .dataframe tbody tr th {\n",
       "        vertical-align: top;\n",
       "    }\n",
       "\n",
       "    .dataframe thead th {\n",
       "        text-align: right;\n",
       "    }\n",
       "</style>\n",
       "<table border=\"1\" class=\"dataframe\">\n",
       "  <thead>\n",
       "    <tr style=\"text-align: right;\">\n",
       "      <th></th>\n",
       "      <th>time</th>\n",
       "      <th>V(cap)</th>\n",
       "      <th>V(source)</th>\n",
       "    </tr>\n",
       "  </thead>\n",
       "  <tbody>\n",
       "    <tr>\n",
       "      <th>0</th>\n",
       "      <td>0.000000e+00</td>\n",
       "      <td>0.000000</td>\n",
       "      <td>0.000000</td>\n",
       "    </tr>\n",
       "    <tr>\n",
       "      <th>1</th>\n",
       "      <td>9.142857e-08</td>\n",
       "      <td>0.000038</td>\n",
       "      <td>0.057450</td>\n",
       "    </tr>\n",
       "    <tr>\n",
       "      <th>2</th>\n",
       "      <td>1.828571e-07</td>\n",
       "      <td>0.000135</td>\n",
       "      <td>0.114890</td>\n",
       "    </tr>\n",
       "    <tr>\n",
       "      <th>3</th>\n",
       "      <td>2.742857e-07</td>\n",
       "      <td>0.000293</td>\n",
       "      <td>0.172320</td>\n",
       "    </tr>\n",
       "    <tr>\n",
       "      <th>4</th>\n",
       "      <td>3.657143e-07</td>\n",
       "      <td>0.000511</td>\n",
       "      <td>0.229741</td>\n",
       "    </tr>\n",
       "  </tbody>\n",
       "</table>\n",
       "</div>"
      ],
      "text/plain": [
       "           time    V(cap)  V(source)\n",
       "0  0.000000e+00  0.000000   0.000000\n",
       "1  9.142857e-08  0.000038   0.057450\n",
       "2  1.828571e-07  0.000135   0.114890\n",
       "3  2.742857e-07  0.000293   0.172320\n",
       "4  3.657143e-07  0.000511   0.229741"
      ]
     },
     "execution_count": 150,
     "metadata": {},
     "output_type": "execute_result"
    }
   ],
   "source": [
    "import pandas as pd\n",
    "\n",
    "df = pd.read_csv('txt/Donnees.txt', sep='\\s+')#'\\s+', header=None, skiprows=1)\n",
    "df.head()"
   ]
  },
  {
   "cell_type": "code",
   "execution_count": 151,
   "metadata": {},
   "outputs": [
    {
     "data": {
      "image/png": "[encoded data removed]",
      "text/plain": [
       "<Figure size 432x288 with 1 Axes>"
      ]
     },
     "metadata": {
      "needs_background": "light"
     },
     "output_type": "display_data"
    }
   ],
   "source": [
    "df.plot('time',['V(cap)','V(source)'])\n",
    "plt.show()"
   ]
  },
  {
   "cell_type": "markdown",
   "metadata": {},
   "source": [
    "<div style=\"border:thin solid green\">\n",
    "</div>\n",
    "\n",
    "<a id=\"P2\"></a>\n",
    "## <cite><font color=\"C32F23\"> Exercices : </font></cite>\n",
    "\n",
    "---\n",
    "\n",
    "<a id=\"P21\"></a>\n",
    "## <cite><font color=\"FBB903\"> Exercice 1 : </font></cite>\n",
    "\n",
    "Le code suivant génère les données \"x\" et \"y\" (\"y\" contient plusieurs colonnes)   \n",
    "\n",
    "<div style=\"padding-top: 10px\">\n",
    "    <ul>\n",
    "        <li> <b>Enregistrer ces données dans un seul fichier csv nommé Donnees.csv. </b></li>\n",
    "        <li> <b>Ecrire un code pour lire ce fichier. </b></li>\n",
    "        <li> <b>Lire les données contenues dans ce fichier. </b></li>\n",
    "        <li> <b>Calculer la moyenne de la deuxième colonne de \"y\". </b></li>\n",
    "        <li> <b>Tracer la deuxième colonne de \"y\" en fonction de \"x\". </b></li>\n",
    "        <li> <b>Supprimer la 3ème colonne de \"y\" et enregistrer ce nouveau tableau dans un fichier csv nommé Donnees3.csv. </b></li>\n",
    "     </ul>\n",
    "</div>\n",
    "\n",
    "<cite><font color=\"red\"> Inscrire votre code dans les cellules ci-dessous : </font></cite>"
   ]
  },
  {
   "cell_type": "code",
   "execution_count": 152,
   "metadata": {},
   "outputs": [
    {
     "data": {
      "image/png": "[encoded data removed]",
      "text/plain": [
       "<Figure size 720x360 with 1 Axes>"
      ]
     },
     "metadata": {
      "needs_background": "light"
     },
     "output_type": "display_data"
    }
   ],
   "source": [
    "import numpy as np\n",
    "import matplotlib.pyplot as plt\n",
    "%matplotlib inline\n",
    "\n",
    "x = np.linspace(0,10,50,endpoint=True)\n",
    "y = np.cumsum(np.random.randn(50,6),0)\n",
    "\n",
    "plt.figure(figsize=(10,5))\n",
    "plt.plot(x,y)\n",
    "plt.legend('abcdef', ncol=2, loc='upper left')\n",
    "plt.grid()\n",
    "plt.show()"
   ]
  },
  {
   "cell_type": "markdown",
   "metadata": {},
   "source": [
    "---\n",
    "<div style=\"padding-top: 10px\">\n",
    "    <ul>\n",
    "        <li> <b>Enregistrer ces données dans un seul fichier csv nommé Donnees.csv. </b></li>\n",
    "    </ul>\n",
    "</div>"
   ]
  },
  {
   "cell_type": "code",
   "execution_count": null,
   "metadata": {},
   "outputs": [],
   "source": []
  },
  {
   "cell_type": "code",
   "execution_count": null,
   "metadata": {},
   "outputs": [],
   "source": []
  },
  {
   "cell_type": "markdown",
   "metadata": {},
   "source": [
    "<div style=\"padding-top: 10px\">\n",
    "    <ul>\n",
    "        <li> <b>Ecrire un code pour lire ce fichier. </b></li>\n",
    "     </ul>\n",
    "</div>"
   ]
  },
  {
   "cell_type": "code",
   "execution_count": null,
   "metadata": {},
   "outputs": [],
   "source": []
  },
  {
   "cell_type": "markdown",
   "metadata": {},
   "source": [
    "<div style=\"padding-top: 10px\">\n",
    "    <ul>\n",
    "        <li> <b>Lire les données contenues dans ce fichier. </b></li>\n",
    "</div>"
   ]
  },
  {
   "cell_type": "code",
   "execution_count": null,
   "metadata": {},
   "outputs": [],
   "source": []
  },
  {
   "cell_type": "markdown",
   "metadata": {},
   "source": [
    "<div style=\"padding-top: 10px\">\n",
    "    <ul>\n",
    "        <li> <b>Calculer la moyenne de la deuxième colonne de \"y\". </b></li>\n",
    "     </ul>\n",
    "</div>"
   ]
  },
  {
   "cell_type": "code",
   "execution_count": null,
   "metadata": {},
   "outputs": [],
   "source": []
  },
  {
   "cell_type": "markdown",
   "metadata": {},
   "source": [
    "<div style=\"padding-top: 10px\">\n",
    "    <ul>\n",
    "        <li> <b>Tracer la deuxième colonne de \"y\" en fonction de \"x\". </b></li>\n",
    "     </ul>\n",
    "</div>"
   ]
  },
  {
   "cell_type": "code",
   "execution_count": null,
   "metadata": {},
   "outputs": [],
   "source": []
  },
  {
   "cell_type": "markdown",
   "metadata": {},
   "source": [
    "<div style=\"padding-top: 10px\">\n",
    "    <ul>\n",
    "        <li> <b>Supprimer la 3ème colonne de \"y\" et enregistrer ce nouveau tableau dans un fichier csv nommé Donnees3.csv. </b></li>\n",
    "     </ul>\n",
    "</div>"
   ]
  },
  {
   "cell_type": "code",
   "execution_count": null,
   "metadata": {},
   "outputs": [],
   "source": []
  },
  {
   "cell_type": "code",
   "execution_count": null,
   "metadata": {},
   "outputs": [],
   "source": []
  },
  {
   "cell_type": "markdown",
   "metadata": {},
   "source": [
    "---\n",
    "<a id=\"P22\"></a>\n",
    "## <cite><font color=\"FBB903\"> Exercice 2 : </font></cite>\n",
    "\n",
    "Soit la chaîne de caractère suivante :   \n",
    "`\"a'99.7;10\\\\r\\n\", \"b'101;14\\\\r\\n\", \"c'102;16\\\\r\\n\", \"d'103;18\\\\r\\n\"`\n",
    "\n",
    "- Ecrire un code pour extraire les chiffres contenus dans cette chaîne (x1 doit contenir les valeurs 99.7, 101, 102 et 103; et x2 doit contenir les autres valeurs : 10, 14, 16 et 18  \n",
    "- Enregistrer ces chiffres dans un fichier texte nommé Texte.txt  \n",
    "- Lire ce fichier texte et tracer x2 en fonction de x1\n",
    "\n",
    "<cite><font color=\"red\"> Inscrire votre code dans la cellule ci-dessous : </font></cite>"
   ]
  },
  {
   "cell_type": "code",
   "execution_count": null,
   "metadata": {},
   "outputs": [],
   "source": []
  },
  {
   "cell_type": "markdown",
   "metadata": {},
   "source": [
    "---\n",
    "<a id=\"P23\"></a>\n",
    "## <cite><font color=\"FBB903\"> Exercice 3 : </font></cite>\n",
    "\n",
    "En utilisant la librairie __Pandas__, construire le tableau suivant :   \n",
    "\n",
    "|    |Nom | Spécialité | CP | Chiffre1 | Chiffre2 | Date | Adresse|\n",
    "|---:|---------:|---:|-------:|------:|----:|-----:|---:|\n",
    "|0 | Nom1 | SN | 12000 | 1.5 | 10 | 12/03/2020 09:55 | 20 Rue A, Rodez, Av 12000|\n",
    "|1 | Nom2 | IMRT | 31000 | 5.0 | 08 | 11/02/2020 11:01 | 1 Avenue B, Toulouse, Hg 31000|\n",
    "|2 | Nom3 | IMRT | 75000 | 12.0 | 15 | 10/01/2020 13:30 | 5 Place C, Paris, Pa 75001|\n",
    "|3 | Nom4 | SN | 12000 | 3.1 | 20 | 09/12/2019 17:25 | 3 Rue D, Rodez, Av 12OOO|\n",
    "\n",
    "- Afficher ce tableau  \n",
    "\n",
    "<cite><font color=\"red\"> Inscrire votre code dans la cellule ci-dessous : </font></cite>"
   ]
  },
  {
   "cell_type": "code",
   "execution_count": null,
   "metadata": {},
   "outputs": [],
   "source": []
  },
  {
   "cell_type": "markdown",
   "metadata": {},
   "source": [
    "A partir de maintenant, vous allez travailler avec le fichier fourni : Fichier.csv (Voir mail ou GitHub)   \n",
    "\n",
    "- Ecrire un code pour lire le fichier \"Fichier.csv\"   \n",
    "- Ecrire un code pour extraire le jour à partir de la date et ajouter à la fin, la colonne Jour et afficher le tableau   \n",
    "- Ecrire un code pour extraire le mois à partir de la date et ajouter à la fin, la colonne Mois et afficher le tableau   \n",
    "- Ecrire un code pour extraire le nom de la ville à partir de l'adresse et ajouter à la fin, la colonne Ville et afficher le tableau   \n",
    "\n",
    "Votre tableau doit ressembler à ça :\n",
    "\n",
    "| |Nom | Spécialité | CP | Chiffre1 | Chiffre2 | Date | Adresse | Jour | Mois| Ville |\n",
    "|---:|---------:|---:|-------:|------:|----:|-----:|---:|----:|---:| ---:|\n",
    "|0 | Nom1 | SN | 12000 | 1.5 | 10 | 12/03/2020 09:55 | 20 Rue A, Rodez, Av 12000| 12 | 03 |Rodez|\n",
    "|1 | Nom2 | IMRT | 31000 | 5.0 | 08 | 11/02/2020 11:01 | 1 Avenue B, Toulouse, Hg 31000| 11 | 02 |Toulouse|\n",
    "|2 | Nom3 | IMRT | 75000 | 12.0 | 15 | 10/01/2020 13:30 | 5 Place C, Paris, Pa 75001| 10 | 01 |Paris|\n",
    "|3 | Nom4 | SN | 12000 | 3.1 | 20 | 09/12/2019 17:25 | 3 Rue D, Rodez, Av 12OOO| 09 | 12 |Rodez|\n",
    "\n"
   ]
  },
  {
   "cell_type": "markdown",
   "metadata": {},
   "source": [
    "- __Ecrire un code pour lire le fichier \"Fichier.csv\"__"
   ]
  },
  {
   "cell_type": "code",
   "execution_count": null,
   "metadata": {},
   "outputs": [],
   "source": []
  },
  {
   "cell_type": "markdown",
   "metadata": {},
   "source": [
    "- __Ecrire un code pour extraire le jour à partir de la date et ajouter à la fin, la colonne Jour et afficher le tableau__"
   ]
  },
  {
   "cell_type": "code",
   "execution_count": null,
   "metadata": {},
   "outputs": [],
   "source": []
  },
  {
   "cell_type": "markdown",
   "metadata": {},
   "source": [
    "- __Ecrire un code pour extraire le mois à partir de la date et ajouter à la fin, la colonne Mois et afficher le tableau__"
   ]
  },
  {
   "cell_type": "code",
   "execution_count": null,
   "metadata": {},
   "outputs": [],
   "source": []
  },
  {
   "cell_type": "markdown",
   "metadata": {},
   "source": [
    "- __Ecrire un code pour extraire le nom de la ville à partir de l'adresse et ajouter à la fin, la colonne Ville et afficher le tableau__"
   ]
  },
  {
   "cell_type": "code",
   "execution_count": null,
   "metadata": {},
   "outputs": [],
   "source": []
  },
  {
   "cell_type": "markdown",
   "metadata": {},
   "source": [
    "- Supprimer la colonne Jour   \n",
    "- Changer le format de la date (Voir ReadMe.md)   \n",
    "- Ecrire un code pour extraire les heures à partir de la date et ajouter à la fin, la colonne Heure et afficher le tableau   \n",
    "- Ecrire un code pour extraire les minutes à partir de la date et ajouter à la fin, la colonne Minute et afficher le tableau\n",
    "\n",
    "Votre tableau doit ressembler à ça :\n",
    "\n",
    "| |Nom | Spécialité | CP | Chiffre1 | Chiffre2 | Date | Adresse| Mois| Ville |Heure|Minute|\n",
    "|---:|---------:|---:|-------:|------:|----:|-----:|---:|----:|---:| ---:|---:|\n",
    "|0 | Nom1 | SN | 12000 | 1.5 | 10 | 2020-12-03 09:55:00 | 20 Rue A, Rodez, Av 12000| 03 |Rodez|09|55|\n",
    "|1 | Nom2 | IMRT | 31000 | 5.0 | 08 | 2020-11-02 11:01:00 | 1 Avenue B, Toulouse, Hg 31000| 02 |Toulouse|11|01|\n",
    "|2 | Nom3 | IMRT | 75000 | 12.0 | 15 | 2020-10-01 13:30:00 | 5 Place C, Paris, Pa 75001| 01 |Paris|13|30|\n",
    "|3 | Nom4 | SN | 12000 | 3.1 | 20 | 2019-09-12 17:25:00 | 3 Rue D, Rodez, Av 12OOO| 12 |Rodez|17|25|"
   ]
  },
  {
   "cell_type": "markdown",
   "metadata": {},
   "source": [
    "- __Supprimer la colonne Jour__"
   ]
  },
  {
   "cell_type": "code",
   "execution_count": null,
   "metadata": {},
   "outputs": [],
   "source": []
  },
  {
   "cell_type": "markdown",
   "metadata": {},
   "source": [
    "- __Changer le format de la date__ "
   ]
  },
  {
   "cell_type": "code",
   "execution_count": null,
   "metadata": {},
   "outputs": [],
   "source": []
  },
  {
   "cell_type": "markdown",
   "metadata": {},
   "source": [
    "- __Ecrire un code pour extraire les heures à partir de la date et ajouter à la fin, la colonne Heure et afficher le tableau__"
   ]
  },
  {
   "cell_type": "code",
   "execution_count": null,
   "metadata": {},
   "outputs": [],
   "source": []
  },
  {
   "cell_type": "markdown",
   "metadata": {},
   "source": [
    "- __Ecrire un code pour extraire les minutes à partir de la date et ajouter à la fin, la colonne Minute et afficher le tableau__"
   ]
  },
  {
   "cell_type": "code",
   "execution_count": null,
   "metadata": {},
   "outputs": [],
   "source": []
  },
  {
   "cell_type": "markdown",
   "metadata": {},
   "source": [
    "En utilisant l'instruction `type`, on remarque que la colonne \"Mois\" est de type `string`. De même pour la colonne \"Chiffre2\".  \n",
    "\n",
    "```python\n",
    "print(type(NomDeVotreTableau['Mois'][0]))\n",
    "```\n",
    "\n",
    "`<class 'str'>`\n",
    "\n",
    "- Ecrire un code pour mettre au format `integer` la colonne \"Mois\" et vérifier les résultats   \n",
    "- Ecrire un code pour mettre au bon format `integer` la colonne \"Chiffre2\" et vérifier les résultats   \n",
    "\n",
    "| |Nom | Spécialité | CP | Chiffre1 | Chiffre2 | Date | Adresse| Mois| Ville |Heure|Minute|\n",
    "|---:|---------:|---:|-------:|------:|----:|-----:|---:|----:|---:| ---:|---:|\n",
    "|0 | Nom1 | SN | 12000 | 1.5 | 10 | 2020-12-03 09:55:00 | 20 Rue A, Rodez, Av 12000| 3 |Rodez|09|55|\n",
    "|1 | Nom2 | IMRT | 31000 | 5.0 | 8 | 2020-11-02 11:01:00 | 1 Avenue B, Toulouse, Hg 31000| 2 |Toulouse|11|01|\n",
    "|2 | Nom3 | IMRT | 75000 | 12.0 | 15 | 2020-10-01 13:30:00 | 5 Place C, Paris, Pa 75001| 1 |Paris|13|30|\n",
    "|3 | Nom4 | SN | 12000 | 3.1 | 20 | 2019-09-12 17:25:00 | 3 Rue D, Rodez, Av 12OOO| 12 |Rodez|17|25|"
   ]
  },
  {
   "cell_type": "markdown",
   "metadata": {},
   "source": [
    "- __Ecrire un code pour mettre au format `integer` la colonne \"Mois\" et vérifier vos résultats__"
   ]
  },
  {
   "cell_type": "code",
   "execution_count": null,
   "metadata": {},
   "outputs": [],
   "source": []
  },
  {
   "cell_type": "code",
   "execution_count": null,
   "metadata": {},
   "outputs": [],
   "source": []
  },
  {
   "cell_type": "markdown",
   "metadata": {},
   "source": [
    "- __Ecrire un code pour mettre au bon format `integer` la colonne \"Chiffre2\" et vérifier vos résultats__"
   ]
  },
  {
   "cell_type": "code",
   "execution_count": null,
   "metadata": {},
   "outputs": [],
   "source": []
  },
  {
   "cell_type": "markdown",
   "metadata": {},
   "source": [
    "> __Remarque :__    \n",
    "Le logiciel nous informe que la colonne \"Chiffre2\" est de `<class 'int'>` qui n'a rien avoir avec les entiers.    Si la colonne \"Chiffre2\" ne contient que des entiers, le logiciel doit afficher `<class 'numpy.int64'>` ou `<class 'numpy.int32'>` (voir les résultats de la conversion de la colonne \"Mois\")"
   ]
  },
  {
   "cell_type": "code",
   "execution_count": null,
   "metadata": {},
   "outputs": [],
   "source": []
  },
  {
   "cell_type": "markdown",
   "metadata": {},
   "source": [
    "- __Ajouter une colonne pour calculer la moyenne entre le \"Chiffre1\" et le \"Chiffre2\"__   \n",
    "- __Enregistrer votre fichier dans un fichier csv nommé FichierResultat.csv__   "
   ]
  },
  {
   "cell_type": "code",
   "execution_count": null,
   "metadata": {},
   "outputs": [],
   "source": []
  },
  {
   "cell_type": "code",
   "execution_count": null,
   "metadata": {},
   "outputs": [],
   "source": []
  }
 ],
 "metadata": {
  "kernelspec": {
   "display_name": "Python 3",
   "language": "python",
   "name": "python3"
  },
  "language_info": {
   "codemirror_mode": {
    "name": "ipython",
    "version": 3
   },
   "file_extension": ".py",
   "mimetype": "text/x-python",
   "name": "python",
   "nbconvert_exporter": "python",
   "pygments_lexer": "ipython3",
   "version": "3.7.6"
  }
 },
 "nbformat": 4,
 "nbformat_minor": 4
}
