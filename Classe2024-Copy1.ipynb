{
 "cells": [
  {
   "cell_type": "code",
   "execution_count": 67,
   "id": "aa100e99-bd60-40a1-aba9-4109f4e4c1df",
   "metadata": {},
   "outputs": [
    {
     "name": "stdout",
     "output_type": "stream",
     "text": [
      "<class 'str'>\n",
      "<class 'int'>\n"
     ]
    }
   ],
   "source": [
    "PC1 = 'Apple'\n",
    "PC1_prix = 1900\n",
    "print(type(PC1)) # str\n",
    "print(type(PC1_prix)) # int"
   ]
  },
  {
   "cell_type": "markdown",
   "id": "545aa79d-7e6b-4d38-9c89-4ad853c71fb0",
   "metadata": {},
   "source": [
    "---\n",
    "\n",
    "## Classe en Python\n",
    "\n",
    "Pour définir une classe\n",
    "\n",
    "```python\n",
    "class NomDeLaClasse:\n",
    "    # Définition de la classe\n",
    "```"
   ]
  },
  {
   "cell_type": "code",
   "execution_count": null,
   "id": "ca49f545-0a37-4524-b1fa-78ef7ab09313",
   "metadata": {},
   "outputs": [],
   "source": [
    "# Créer une classe\n",
    "class Ordinateur:\n",
    "    marque = \"\" # Variable appelée attribut\n",
    "    prix = 0 # Variable appelée attribut"
   ]
  },
  {
   "cell_type": "markdown",
   "id": "3d832d88-963d-465e-bcae-1e83cbd5c5a3",
   "metadata": {},
   "source": [
    "- Un objet est une instance de classe\n",
    "    * La syntaxe pour créer un objet est\n",
    "\n",
    "```python\n",
    "nomObjet = NomDeLaClasse()\n",
    "```\n",
    "\n",
    "Un objet est une instance d'une classe, et il peut avoir des attributs (variables) et des méthodes (fonctions)."
   ]
  },
  {
   "cell_type": "code",
   "execution_count": 69,
   "id": "c3a0fa8c-6598-4b11-bc3c-2dbc624c7c57",
   "metadata": {},
   "outputs": [
    {
     "name": "stdout",
     "output_type": "stream",
     "text": [
      "<class '__main__.Ordinateur'>\n",
      "<class 'str'>\n",
      "<class 'int'>\n"
     ]
    }
   ],
   "source": [
    "# Créer une classe\n",
    "class Ordinateur:\n",
    "    pass\n",
    "\n",
    "PC1 = Ordinateur()\n",
    "PC1.marque = \"Apple\"\n",
    "PC1.prix = 1900\n",
    "\n",
    "print(type(PC1)) # Ordinateur\n",
    "print(type(PC1.marque)) # str\n",
    "print(type(PC1.prix)) # int"
   ]
  },
  {
   "cell_type": "code",
   "execution_count": 73,
   "id": "142a3d2c-0f58-498e-a6d8-a93c940076d1",
   "metadata": {},
   "outputs": [],
   "source": [
    "# Créer une classe\n",
    "class Ordinateur:\n",
    "    def mafonction(self):\n",
    "        pass\n",
    "\n",
    "PC1 = Ordinateur()\n",
    "PC1.marque = \"Apple\"\n",
    "PC1.prix = 1900\n",
    "\n",
    "PC1.mafonction()"
   ]
  },
  {
   "cell_type": "code",
   "execution_count": 79,
   "id": "edacc551-9a99-4d40-95e7-a4a67fd7934b",
   "metadata": {},
   "outputs": [
    {
     "data": {
      "text/plain": [
       "190.0"
      ]
     },
     "execution_count": 79,
     "metadata": {},
     "output_type": "execute_result"
    }
   ],
   "source": [
    "# Créer une classe\n",
    "class Ordinateur:\n",
    "    def mafonction(self,x):\n",
    "        return x/10\n",
    "\n",
    "PC1 = Ordinateur()\n",
    "PC1.marque = \"Apple\"\n",
    "PC1.prix = 1900\n",
    "\n",
    "PC1.mafonction(PC1.prix)\n",
    "#ou print(PC1.mafonction(PC1.prix))"
   ]
  },
  {
   "cell_type": "code",
   "execution_count": 81,
   "id": "82e7a278-bd80-4721-9313-9c3a8b7c14b5",
   "metadata": {},
   "outputs": [
    {
     "name": "stdout",
     "output_type": "stream",
     "text": [
      "Création de la méthode\n",
      "Création de la méthode\n"
     ]
    }
   ],
   "source": [
    "# Créer une classe\n",
    "class Ordinateur:\n",
    "    def __init__(self):\n",
    "        print(\"Création de la méthode\")\n",
    "        \n",
    "    def mafonction(self,x):\n",
    "        return x/10\n",
    "\n",
    "PC1 = Ordinateur()\n",
    "PC1.marque = \"Apple\"\n",
    "PC1.prix = 1900\n",
    "\n",
    "PC2 = Ordinateur()\n",
    "PC2.marque = \"HP\"\n",
    "PC2.prix = 890"
   ]
  },
  {
   "cell_type": "code",
   "execution_count": 85,
   "id": "25c07fbf-7827-4a71-b79d-8032885cc5d2",
   "metadata": {},
   "outputs": [
    {
     "name": "stdout",
     "output_type": "stream",
     "text": [
      "Instance Apple est créée\n",
      "Instance HP est créée\n"
     ]
    }
   ],
   "source": [
    "# Créer une classe\n",
    "class Ordinateur:\n",
    "    def __init__(self,marque):\n",
    "        print(f\"Instance {marque} est créée\")\n",
    "        \n",
    "    def mafonction(self,x):\n",
    "        return x/10\n",
    "\n",
    "PC1 = Ordinateur(\"Apple\")\n",
    "PC1.marque = \"Apple\"\n",
    "PC1.prix = 1900\n",
    "\n",
    "PC2 = Ordinateur(\"HP\")\n",
    "PC2.marque = \"HP\"\n",
    "PC2.prix = 890"
   ]
  },
  {
   "cell_type": "code",
   "execution_count": 87,
   "id": "11f31a9a-27ae-48ee-8d28-84a763563440",
   "metadata": {},
   "outputs": [
    {
     "name": "stdout",
     "output_type": "stream",
     "text": [
      "Instance Apple est créée\n",
      "Instance HP est créée\n"
     ]
    }
   ],
   "source": [
    "# Créer une classe\n",
    "class Ordinateur:\n",
    "    def __init__(self,marque):\n",
    "        print(f\"Instance {marque} est créée\")\n",
    "        self.marque = marque\n",
    "        \n",
    "    def mafonction(self,x):\n",
    "        return x/10\n",
    "\n",
    "PC1 = Ordinateur(\"Apple\")\n",
    "PC1.prix = 1900\n",
    "\n",
    "PC2 = Ordinateur(\"HP\")\n",
    "PC2.prix = 890"
   ]
  },
  {
   "cell_type": "code",
   "execution_count": 89,
   "id": "f498dbac-fe6c-4b09-be87-5863c98d3334",
   "metadata": {},
   "outputs": [
    {
     "name": "stdout",
     "output_type": "stream",
     "text": [
      "Apple\n",
      "HP\n"
     ]
    }
   ],
   "source": [
    "# Créer une classe\n",
    "class Ordinateur:\n",
    "    def __init__(self,marque):\n",
    "        self.marque = marque\n",
    "        \n",
    "    def mafonction(self,x):\n",
    "        return x/10\n",
    "\n",
    "PC1 = Ordinateur(\"Apple\")\n",
    "PC1.prix = 1900\n",
    "\n",
    "PC2 = Ordinateur(\"HP\")\n",
    "PC2.prix = 890\n",
    "\n",
    "print(PC1.marque)\n",
    "print(PC2.marque)"
   ]
  },
  {
   "cell_type": "code",
   "execution_count": 93,
   "id": "90fe322b-0c00-40f8-96ef-f371541ab565",
   "metadata": {},
   "outputs": [
    {
     "name": "stdout",
     "output_type": "stream",
     "text": [
      "Apple\n",
      "HP\n",
      "1900\n",
      "890\n"
     ]
    }
   ],
   "source": [
    "# Créer une classe\n",
    "class Ordinateur:\n",
    "    def __init__(self,marque,prix):\n",
    "        self.marque = marque\n",
    "        self.prix = prix\n",
    "        \n",
    "    def mafonction(self,x):\n",
    "        return x/10\n",
    "\n",
    "PC1 = Ordinateur(\"Apple\",1900)\n",
    "\n",
    "PC2 = Ordinateur(\"HP\",890)\n",
    "\n",
    "print(PC1.marque)\n",
    "print(PC2.marque)\n",
    "print(PC1.prix)\n",
    "print(PC2.prix)"
   ]
  },
  {
   "cell_type": "code",
   "execution_count": 8,
   "id": "9e5a4999-bff9-4729-bff6-f3195b829822",
   "metadata": {},
   "outputs": [
    {
     "name": "stdout",
     "output_type": "stream",
     "text": [
      "<bound method Ordinateur.mafonction of <__main__.Ordinateur object at 0x112783aa0>>\n"
     ]
    }
   ],
   "source": [
    "# Créer une classe\n",
    "class Ordinateur:\n",
    "    def __init__(self,marque: str, prix: float):\n",
    "        # Validation des arguments reçus\n",
    "        assert prix >= 0, f\"Le prix {prix} n'est pas un nombre positif\"\n",
    "\n",
    "        # Assignation à l'objet self\n",
    "        self.marque = marque\n",
    "        self.prix = prix \n",
    "        \n",
    "    def mafonction(self):\n",
    "        return self.prix/10\n",
    "\n",
    "PC1 = Ordinateur(\"Apple\",1900)\n",
    "\n",
    "PC2 = Ordinateur(\"HP\",890)\n",
    "\n",
    "print(PC1.mafonction)"
   ]
  },
  {
   "cell_type": "code",
   "execution_count": 146,
   "id": "61019b18-7c9b-40b2-9cc2-0746a12f2228",
   "metadata": {},
   "outputs": [
    {
     "name": "stdout",
     "output_type": "stream",
     "text": [
      "0.2\n",
      "0.2\n"
     ]
    }
   ],
   "source": [
    "# Créer une classe\n",
    "class Ordinateur:\n",
    "    tva = 0.2\n",
    "    def __init__(self,marque: str, prix: float):\n",
    "        # Validation des arguments reçus\n",
    "        assert prix >= 0, f\"Le prix {prix} n'est pas un nombre positif\"\n",
    "\n",
    "        # Assignation à l'objet self\n",
    "        self.marque = marque\n",
    "        self.prix = prix \n",
    "        \n",
    "    def mafonction(self):\n",
    "        return self.prix /10\n",
    "\n",
    "PC1 = Ordinateur(\"Apple\",1900)\n",
    "\n",
    "PC2 = Ordinateur(\"HP\",890)\n",
    "\n",
    "print(Ordinateur.tva)\n",
    "print(PC1.tva)"
   ]
  },
  {
   "cell_type": "code",
   "execution_count": 148,
   "id": "9e234c3c-ac87-4b43-88a0-a8e3a097c285",
   "metadata": {},
   "outputs": [
    {
     "name": "stdout",
     "output_type": "stream",
     "text": [
      "{'__module__': '__main__', 'tva': 0.2, '__init__': <function Ordinateur.__init__ at 0x124de8c20>, 'mafonction': <function Ordinateur.mafonction at 0x124de8ea0>, '__dict__': <attribute '__dict__' of 'Ordinateur' objects>, '__weakref__': <attribute '__weakref__' of 'Ordinateur' objects>, '__doc__': None}\n",
      "{'marque': 'Apple', 'prix': 1900}\n"
     ]
    }
   ],
   "source": [
    "# Créer une classe\n",
    "class Ordinateur:\n",
    "    tva = 0.2\n",
    "    def __init__(self,marque: str, prix: float):\n",
    "        # Validation des arguments reçus\n",
    "        assert prix >= 0, f\"Le prix {prix} n'est pas un nombre positif\"\n",
    "\n",
    "        # Assignation à l'objet self\n",
    "        self.marque = marque\n",
    "        self.prix = prix \n",
    "        \n",
    "    def mafonction(self):\n",
    "        return self.prix /10\n",
    "\n",
    "PC1 = Ordinateur(\"Apple\",1900)\n",
    "\n",
    "PC2 = Ordinateur(\"HP\",890)\n",
    "\n",
    "print(Ordinateur.__dict__)\n",
    "print(PC1.__dict__)"
   ]
  },
  {
   "cell_type": "code",
   "execution_count": 154,
   "id": "23351729-dca2-4b19-8092-c0214fc3cb0b",
   "metadata": {},
   "outputs": [
    {
     "name": "stdout",
     "output_type": "stream",
     "text": [
      "2280.0\n",
      "1200.0\n"
     ]
    }
   ],
   "source": [
    "# Créer une classe\n",
    "class Ordinateur:\n",
    "    tva = 0.2\n",
    "    def __init__(self,marque: str, prix: float):\n",
    "        # Validation des arguments reçus\n",
    "        assert prix >= 0, f\"Le prix {prix} n'est pas un nombre positif\"\n",
    "\n",
    "        # Assignation à l'objet self\n",
    "        self.marque = marque\n",
    "        self.prix = prix \n",
    "        \n",
    "    def mafonction(self):\n",
    "        self.prix = self.prix * (1+Ordinateur.tva)\n",
    "\n",
    "PC1 = Ordinateur(\"Apple\",1900)\n",
    "PC1.mafonction()\n",
    "print(PC1.prix)\n",
    "\n",
    "PC2 = Ordinateur(\"HP\",1000)\n",
    "PC2.tva = 0.5\n",
    "PC2.mafonction()\n",
    "print(PC2.prix)"
   ]
  },
  {
   "cell_type": "code",
   "execution_count": 156,
   "id": "8802738f-925d-4661-abb8-2bd25f731d2b",
   "metadata": {},
   "outputs": [
    {
     "name": "stdout",
     "output_type": "stream",
     "text": [
      "2280.0\n",
      "1500.0\n"
     ]
    }
   ],
   "source": [
    "# Créer une classe\n",
    "class Ordinateur:\n",
    "    tva = 0.2\n",
    "    def __init__(self,marque: str, prix: float):\n",
    "        # Validation des arguments reçus\n",
    "        assert prix >= 0, f\"Le prix {prix} n'est pas un nombre positif\"\n",
    "\n",
    "        # Assignation à l'objet self\n",
    "        self.marque = marque\n",
    "        self.prix = prix \n",
    "        \n",
    "    def mafonction(self):\n",
    "        self.prix = self.prix * (1+self.tva)\n",
    "\n",
    "PC1 = Ordinateur(\"Apple\",1900)\n",
    "PC1.mafonction()\n",
    "print(PC1.prix)\n",
    "\n",
    "PC2 = Ordinateur(\"HP\",1000)\n",
    "PC2.tva = 0.5\n",
    "PC2.mafonction()\n",
    "print(PC2.prix)"
   ]
  },
  {
   "cell_type": "code",
   "execution_count": 162,
   "id": "468703bd-28f7-4ace-a7e3-0efbf921a620",
   "metadata": {},
   "outputs": [
    {
     "name": "stdout",
     "output_type": "stream",
     "text": [
      "[<__main__.Ordinateur object at 0x12505e4e0>, <__main__.Ordinateur object at 0x12505ed80>, <__main__.Ordinateur object at 0x12505db20>]\n",
      "Apple\n",
      "HP\n",
      "Dell\n"
     ]
    }
   ],
   "source": [
    "# Créer une classe\n",
    "class Ordinateur:\n",
    "    all = []\n",
    "    tva = 0.2\n",
    "    def __init__(self,marque: str, prix: float):\n",
    "        # Validation des arguments reçus\n",
    "        assert prix >= 0, f\"Le prix {prix} n'est pas un nombre positif\"\n",
    "\n",
    "        # Assignation à l'objet self\n",
    "        self.marque = marque\n",
    "        self.prix = prix \n",
    "\n",
    "        Ordinateur.all.append(self)\n",
    "        \n",
    "    def mafonction(self):\n",
    "        self.prix = self.prix * (1+self.tva)\n",
    "\n",
    "PC1 = Ordinateur(\"Apple\",1900)\n",
    "PC2 = Ordinateur(\"HP\",1000)\n",
    "PC3 = Ordinateur(\"Dell\",1200)\n",
    "\n",
    "print(Ordinateur.all)\n",
    "\n",
    "for instance in Ordinateur.all:\n",
    "    print(instance.marque)\n"
   ]
  },
  {
   "cell_type": "code",
   "execution_count": 168,
   "id": "a6b1aeb5-10d8-444d-9f52-25dae8e59392",
   "metadata": {},
   "outputs": [
    {
     "name": "stdout",
     "output_type": "stream",
     "text": [
      "[Ordinateur, Ordinateur, Ordinateur]\n"
     ]
    }
   ],
   "source": [
    "# Créer une classe\n",
    "class Ordinateur:\n",
    "    all = []\n",
    "    tva = 0.2\n",
    "    def __init__(self,marque: str, prix: float):\n",
    "        # Validation des arguments reçus\n",
    "        assert prix >= 0, f\"Le prix {prix} n'est pas un nombre positif\"\n",
    "\n",
    "        # Assignation à l'objet self\n",
    "        self.marque = marque\n",
    "        self.prix = prix \n",
    "\n",
    "        Ordinateur.all.append(self)\n",
    "        \n",
    "    def mafonction(self):\n",
    "        self.prix = self.prix * (1+self.tva)\n",
    "\n",
    "    def __repr__(self):\n",
    "        return \"Ordinateur\"\n",
    "\n",
    "PC1 = Ordinateur(\"Apple\",1900)\n",
    "PC2 = Ordinateur(\"HP\",1000)\n",
    "PC3 = Ordinateur(\"Dell\",1200)\n",
    "\n",
    "print(Ordinateur.all)\n",
    "\n"
   ]
  },
  {
   "cell_type": "code",
   "execution_count": 174,
   "id": "19f74054-5e5f-4991-97a5-1e11bae3b9f9",
   "metadata": {},
   "outputs": [
    {
     "name": "stdout",
     "output_type": "stream",
     "text": [
      "[Ordinateur('Apple',1900), Ordinateur('HP',1000), Ordinateur('Dell',1200)]\n"
     ]
    }
   ],
   "source": [
    "# Créer une classe\n",
    "class Ordinateur:\n",
    "    all = []\n",
    "    tva = 0.2\n",
    "    def __init__(self,marque: str, prix: float):\n",
    "        # Validation des arguments reçus\n",
    "        assert prix >= 0, f\"Le prix {prix} n'est pas un nombre positif\"\n",
    "\n",
    "        # Assignation à l'objet self\n",
    "        self.marque = marque\n",
    "        self.prix = prix \n",
    "\n",
    "        Ordinateur.all.append(self)\n",
    "        \n",
    "    def mafonction(self):\n",
    "        self.prix = self.prix * (1+self.tva)\n",
    "\n",
    "    def __repr__(self):\n",
    "        return f\"Ordinateur('{self.marque}',{self.prix})\"\n",
    "\n",
    "PC1 = Ordinateur(\"Apple\",1900)\n",
    "PC2 = Ordinateur(\"HP\",1000)\n",
    "PC3 = Ordinateur(\"Dell\",1200)\n",
    "\n",
    "print(Ordinateur.all)\n",
    "\n"
   ]
  },
  {
   "cell_type": "code",
   "execution_count": 166,
   "id": "2b90eebf-ce15-4368-bf24-d92a5829b7d4",
   "metadata": {},
   "outputs": [],
   "source": [
    "# Créer une classe\n",
    "class Ordinateur:\n",
    "    marque = \"\" # Variable appelée attribut\n",
    "    prix = 0 # Variable appelée attribut\n",
    "\n",
    "# Créer un objet (instance) de la classe\n",
    "PC1 = Ordinateur()"
   ]
  },
  {
   "cell_type": "markdown",
   "id": "568b3d5c-e8f0-4a64-847e-2faccae664d3",
   "metadata": {},
   "source": [
    "- Maintenant, on peut utiliser cet objet pour accéder aux attributs de la classe\n",
    "    * On utilise `PC1.marque` et `PC1.prix` pour changer et accéder aux valeurs des attributs `marque` et `prix` respectivement."
   ]
  },
  {
   "cell_type": "code",
   "execution_count": 26,
   "id": "723eae2e-2709-4f6a-b484-933c1743c328",
   "metadata": {},
   "outputs": [
    {
     "name": "stdout",
     "output_type": "stream",
     "text": [
      "Marque : Apple, Prix : 1900 €\n"
     ]
    }
   ],
   "source": [
    "# définition de la classe\n",
    "class Ordinateur:\n",
    "    marque = \"\" # Attribut\n",
    "    prix = 0 # Attribut\n",
    "\n",
    "# création d'un objet de la classe\n",
    "PC1 = Ordinateur() # Objet\n",
    "\n",
    "# accès aux attributs et assignation de nouvelles valeurs\n",
    "# en utilisant la notation pointée --.--\n",
    "PC1.prix = 1900\n",
    "PC1.marque = \"Apple\"\n",
    "\n",
    "print(f\"Marque : {PC1.marque}, Prix : {PC1.prix} €\")"
   ]
  },
  {
   "cell_type": "markdown",
   "id": "dec052cb-a152-4985-a811-088533c4c01f",
   "metadata": {},
   "source": [
    "### Création de plusieurs objets"
   ]
  },
  {
   "cell_type": "code",
   "execution_count": 29,
   "id": "4408b1cf-f487-4862-9482-bd82cb52a868",
   "metadata": {},
   "outputs": [
    {
     "name": "stdout",
     "output_type": "stream",
     "text": [
      "Marque : Apple, Prix : 1900 €\n",
      "Marque : Dell, Prix : 1400 €\n"
     ]
    }
   ],
   "source": [
    "# définition de la classe\n",
    "class Ordinateur:\n",
    "    marque = \"\" # Attribut\n",
    "    prix = 0 # Attribut\n",
    "\n",
    "# création d'objets de la classe\n",
    "PC1 = Ordinateur() # Objet 1\n",
    "PC2 = Ordinateur() # Objet 2\n",
    "\n",
    "# accès aux attributs et assignation de nouvelles valeurs\n",
    "# en utilisant la notation pointée --.--\n",
    "PC1.prix = 1900\n",
    "PC1.marque = \"Apple\"\n",
    "print(f\"Marque : {PC1.marque}, Prix : {PC1.prix} €\")\n",
    "\n",
    "PC2.prix = 1400\n",
    "PC2.marque = \"Dell\"\n",
    "print(f\"Marque : {PC2.marque}, Prix : {PC2.prix} €\")"
   ]
  },
  {
   "cell_type": "markdown",
   "id": "f159830b-69e8-4643-baa1-45951ad95ec7",
   "metadata": {},
   "source": [
    "### Définition de fonction (méthode) à l'intérieur d'une classe"
   ]
  },
  {
   "cell_type": "code",
   "execution_count": 34,
   "id": "c42d3616-b796-4660-aa8b-4cbe513be048",
   "metadata": {},
   "outputs": [
    {
     "name": "stdout",
     "output_type": "stream",
     "text": [
      "Prix TTC = 2280.0\n",
      "Prix TTC = 1680.0\n"
     ]
    }
   ],
   "source": [
    "# définition de la classe\n",
    "class Ordinateur:\n",
    "    marque = \"\" # Attribut\n",
    "    prix = 0 # Attribut\n",
    "    tva = 0.2\n",
    "\n",
    "    # définition de la méthode\n",
    "    # à partir du prix HT calcule le prix TTC\n",
    "    def p_TTC(self):\n",
    "        print(\"Prix TTC =\", self.prix * (1+self.tva))\n",
    "\n",
    "# création d'objets de la classe\n",
    "PC1 = Ordinateur() # Objet 1\n",
    "PC2 = Ordinateur() # Objet 2\n",
    "\n",
    "# accès aux attributs et assignation de nouvelles valeurs\n",
    "# en utilisant la notation pointée --.--\n",
    "PC1.prix = 1900\n",
    "PC1.marque = \"Apple\"\n",
    "PC1.p_TTC()\n",
    "\n",
    "PC2.prix = 1400\n",
    "PC2.marque = \"Dell\"\n",
    "PC2.p_TTC()"
   ]
  },
  {
   "cell_type": "markdown",
   "id": "403316d5-7763-49a0-a637-5272a79b7c9f",
   "metadata": {},
   "source": [
    "### Les constructeurs"
   ]
  },
  {
   "cell_type": "code",
   "execution_count": 43,
   "id": "f7a093cb-ac9d-49c5-aa63-b333f1463cf7",
   "metadata": {},
   "outputs": [
    {
     "name": "stdout",
     "output_type": "stream",
     "text": [
      "PC1 :  \n",
      "PC1 :  0\n",
      "PC2 : HP\n",
      "PC2 : 0\n",
      "PC3 : Asus\n",
      "PC3 : 900\n"
     ]
    }
   ],
   "source": [
    "# définition de la classe\n",
    "class Ordinateur:\n",
    "    # constructeur\n",
    "    def __init__(self, marque = \"\", prix = 0):\n",
    "        self.marque = marque\n",
    "        self.prix = prix\n",
    "\n",
    "# création d'objets de la classe\n",
    "PC1 = Ordinateur() # Objet 1\n",
    "print(\"PC1 : \",PC1.marque)\n",
    "print(\"PC1 : \",PC1.prix)\n",
    "\n",
    "PC2 = Ordinateur(\"HP\") # Objet 2\n",
    "print(\"PC2 :\", PC2.marque)\n",
    "print(\"PC2 :\", PC2.prix)\n",
    "\n",
    "PC3 = Ordinateur(\"Asus\",900) # Objet 3\n",
    "print(\"PC3 :\", PC3.marque)\n",
    "print(\"PC3 :\", PC3.prix)\n"
   ]
  },
  {
   "cell_type": "code",
   "execution_count": 47,
   "id": "47bd38c4-8069-4ac2-87dc-96611a595d86",
   "metadata": {},
   "outputs": [
    {
     "name": "stdout",
     "output_type": "stream",
     "text": [
      "Ordinateur de marque Asus est vendu au prix de 700 €\n"
     ]
    }
   ],
   "source": [
    "# définition de la classe\n",
    "class Ordinateur:\n",
    "    # constructeur\n",
    "    def __init__(self, marque, prix):\n",
    "        self.marque = marque\n",
    "        self.prix = prix\n",
    "\n",
    "    def affiche(self):\n",
    "        print(f\"Ordinateur de marque {self.marque} est vendu au prix de {self.prix} €\")\n",
    "\n",
    "# création d'objets de la classe\n",
    "PC1 = Ordinateur(\"Asus\",700) # Objet 1\n",
    "PC1.affiche()"
   ]
  },
  {
   "cell_type": "markdown",
   "id": "fe044db6-9c55-4758-9073-9785f3bb41aa",
   "metadata": {},
   "source": [
    "Dans cet exemple, la classe `Orddinateur` possède deux attributs `marque` et `prix`, et une méthode `affiche` qui print un message. La méthode `__init__` est un constructeur qui initialise les attributs de l'objet. Pour créer un objet de la classe `Ordinateur`, nous utilisons le constructeur de classe et passons les paramètres requis."
   ]
  },
  {
   "cell_type": "markdown",
   "id": "4690bfa7-1f9a-482e-a2fa-c9335c35cc03",
   "metadata": {},
   "source": [
    "### Méthode de classe\n",
    "En Python, les méthodes de classe sont définies à l'aide du décorateur `@classmethod`. "
   ]
  },
  {
   "cell_type": "code",
   "execution_count": null,
   "id": "9d36c9e0-6ae6-4e37-9acf-6062d75a81ec",
   "metadata": {},
   "outputs": [],
   "source": []
  },
  {
   "cell_type": "code",
   "execution_count": null,
   "id": "11bd4292-9a1a-4539-a874-398a2a8c01f3",
   "metadata": {},
   "outputs": [],
   "source": []
  },
  {
   "cell_type": "code",
   "execution_count": null,
   "id": "ddee98bb-f58b-48e4-952c-19c881671944",
   "metadata": {},
   "outputs": [],
   "source": []
  },
  {
   "cell_type": "markdown",
   "id": "123d2e6e-aa74-4059-8cd1-aa50adda0a89",
   "metadata": {},
   "source": []
  },
  {
   "cell_type": "markdown",
   "id": "3ef770a4-bfa2-49bf-97bc-67938e64006e",
   "metadata": {},
   "source": [
    "---\n",
    "---"
   ]
  },
  {
   "cell_type": "markdown",
   "id": "dd0d1952-00c1-400b-b88c-bf0f94bf6e7d",
   "metadata": {},
   "source": [
    "---\n",
    "---"
   ]
  },
  {
   "cell_type": "code",
   "execution_count": null,
   "id": "81423125-357a-4f73-96c5-a5d83d097479",
   "metadata": {},
   "outputs": [],
   "source": []
  }
 ],
 "metadata": {
  "kernelspec": {
   "display_name": "Python 3 (ipykernel)",
   "language": "python",
   "name": "python3"
  },
  "language_info": {
   "codemirror_mode": {
    "name": "ipython",
    "version": 3
   },
   "file_extension": ".py",
   "mimetype": "text/x-python",
   "name": "python",
   "nbconvert_exporter": "python",
   "pygments_lexer": "ipython3",
   "version": "3.12.7"
  }
 },
 "nbformat": 4,
 "nbformat_minor": 5
}
