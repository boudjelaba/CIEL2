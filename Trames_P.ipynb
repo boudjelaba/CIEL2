{
 "cells": [
  {
   "cell_type": "markdown",
   "id": "acd59e28-bf9b-4e9a-ab66-d0f1ed89a153",
   "metadata": {},
   "source": [
    "## Création d'une trame à partir de données"
   ]
  },
  {
   "cell_type": "code",
   "execution_count": 3,
   "id": "80bc4173-71cb-43e9-9d61-3ca6ca056a97",
   "metadata": {},
   "outputs": [
    {
     "name": "stdout",
     "output_type": "stream",
     "text": [
      "http://192.168.0.2/insert_temp.php?temperature=18.5\n"
     ]
    }
   ],
   "source": [
    "adresse_ip = \"http://192.168.0.2\"\n",
    "prog_exe   = \"/insert_temp.php\"\n",
    "donnee = \"?temperature=18.5\"\n",
    "trame = adresse_ip + prog_exe + donnee\n",
    "print(trame)"
   ]
  },
  {
   "cell_type": "code",
   "execution_count": 36,
   "id": "b0ff2bfa-a7a4-40b1-99b8-3d2ecb04abce",
   "metadata": {},
   "outputs": [
    {
     "name": "stdout",
     "output_type": "stream",
     "text": [
      "serveur : https://carnus.fr/post-esp-data.php?api=tPiRcTemp5C24j2M12&capteur=DHT11&localisation=Salle215&valeur1=18.9&valeur2=76&valeur3=5.4\n"
     ]
    }
   ],
   "source": [
    "serveur = \"https://carnus.fr/post-esp-data.php\"\n",
    "api = \"tPiRcTemp5C24j2M12\"\n",
    "capteur = \"DHT11\"\n",
    "localisation = \"Salle215\"\n",
    "valeur1 = \"18.9\"\n",
    "valeur2 = \"76\"\n",
    "valeur3 = \"5.4\"\n",
    "\n",
    "trame = \"serveur : \" + serveur + \"?api=\" + api + \"&capteur=\" + capteur + \"&localisation=\" \\\n",
    "+ localisation + \"&valeur1=\" + valeur1 + \"&valeur2=\" + valeur2 + \"&valeur3=\" + valeur3 + \"\"\n",
    "\n",
    "print(trame)"
   ]
  },
  {
   "cell_type": "markdown",
   "id": "86e1169a-1c39-4374-97f3-0494930af47a",
   "metadata": {},
   "source": [
    "## Extraction des données à partir d'une trame"
   ]
  },
  {
   "cell_type": "code",
   "execution_count": 12,
   "id": "9a996f43-e9a8-4224-aeed-7e6c9a3b4175",
   "metadata": {},
   "outputs": [
    {
     "name": "stdout",
     "output_type": "stream",
     "text": [
      "Trame originale : http://192.168.0.2/insert_temp.php?temperature=18.5\n",
      "liste1 : ['http:', '192.168.0.2', 'insert_temp.php?temperature=18.5']\n",
      "liste2 : ['http://192.168.0.2/insert_temp.php', 'temperature=18.5']\n",
      "liste3 : ['http://192.168.0.2/insert_temp.php?temperature', '18.5']\n",
      "La valeur de la température est : 18.5\n",
      "Erreur liste1 : c'est une chaîne de caractères\n",
      "L'addition = 23.5\n",
      "R0 : http:\n",
      "R1 : \n",
      "R2 : 192.168.0.2\n",
      "R3 : insert_temp.php?temperature=18.5\n",
      "R4 : http://192.168.0.2/insert_temp.php\n",
      "R5 : temperature=18.5\n",
      "http://192.168.0.2/insert_temp.php\n",
      "temperature=18.5\n"
     ]
    }
   ],
   "source": [
    "import re\n",
    "\n",
    "trame = \"http://192.168.0.2/insert_temp.php?temperature=18.5\"\n",
    "print(\"Trame originale :\",trame)\n",
    "\n",
    "liste1 = re.split(\"[/]+\", trame)\n",
    "print(\"liste1 :\",liste1)\n",
    "liste2 = re.split(\"[?]+\", trame)\n",
    "print(\"liste2 :\",liste2)\n",
    "liste3 = re.split(\"[=]+\", trame)\n",
    "print(\"liste3 :\",liste3)\n",
    "print(\"La valeur de la température est :\",liste3[1])\n",
    "\n",
    "if type(liste1[1]) == str:\n",
    "    print(\"Erreur liste1 : c'est une chaîne de caractères\")\n",
    "else:\n",
    "    print(\"L'addition =\",liste3[1]+5)\n",
    "\n",
    "temperature = float(liste3[1])\n",
    "if type(temperature) == str:\n",
    "    print(\"Erreur liste3 : c'est une chaîne de caractères\")\n",
    "else:\n",
    "    print(\"L'addition =\",temperature+5)\n",
    "\n",
    "print(\"R0 :\",trame.split(\"/\")[0])\n",
    "print(\"R1 :\",trame.split(\"/\")[1])\n",
    "print(\"R2 :\",trame.split(\"/\")[2])\n",
    "print(\"R3 :\",trame.split(\"/\")[3])\n",
    "\n",
    "print(\"R4 :\",trame.split(\"?\")[0])\n",
    "print(\"R5 :\",trame.split(\"?\")[1])\n",
    "\n",
    "debut, _, donnees = trame.partition(\"?\")\n",
    "print(debut)\n",
    "print(donnees)"
   ]
  },
  {
   "cell_type": "code",
   "execution_count": 40,
   "id": "3f5f1a51-27b0-4570-ad5d-d2b8348f487a",
   "metadata": {},
   "outputs": [
    {
     "name": "stdout",
     "output_type": "stream",
     "text": [
      "Trame originale : https://carnus.fr/post-esp-data.php?api=tPiRcTemp5C24j2M12&capteur=DHT11&localisation=Salle215&valeur1=18.9&valeur2=76&valeur3=5.4\n",
      "liste : ['https://carnus.fr/post-esp-data.php', 'api=tPiRcTemp5C24j2M12&capteur=DHT11&localisation=Salle215&valeur1=18.9&valeur2=76&valeur3=5.4']\n",
      "liste utile : api=tPiRcTemp5C24j2M12&capteur=DHT11&localisation=Salle215&valeur1=18.9&valeur2=76&valeur3=5.4\n",
      "\n",
      "Le contenu : ['api=tPiRcTemp5C24j2M12', 'capteur=DHT11', 'localisation=Salle215', 'valeur1=18.9', 'valeur2=76', 'valeur3=5.4']\n",
      "<class 'list'>\n",
      "api=tPiRcTemp5C24j2M12\n",
      "capteur=DHT11\n",
      "localisation=Salle215\n",
      "valeur1=18.9\n",
      "valeur2=76\n",
      "valeur3=5.4\n",
      "Le contenu d'index 0 est api=tPiRcTemp5C24j2M12\n",
      "Le contenu d'index 1 est capteur=DHT11\n",
      "Le contenu d'index 2 est localisation=Salle215\n",
      "Le contenu d'index 3 est valeur1=18.9\n",
      "Le contenu d'index 4 est valeur2=76\n",
      "Le contenu d'index 5 est valeur3=5.4\n",
      "0 : api=tPiRcTemp5C24j2M12\n",
      "1 : capteur=DHT11\n",
      "2 : localisation=Salle215\n",
      "3 : valeur1=18.9\n",
      "4 : valeur2=76\n",
      "5 : valeur3=5.4\n",
      "['api', 'tPiRcTemp5C24j2M12']\n",
      "['capteur', 'DHT11']\n",
      "['localisation', 'Salle215']\n",
      "['valeur1', '18.9']\n",
      "['valeur2', '76']\n",
      "['valeur3', '5.4']\n",
      "[['api', 'tPiRcTemp5C24j2M12'], ['capteur', 'DHT11'], ['localisation', 'Salle215'], ['valeur1', '18.9'], ['valeur2', '76'], ['valeur3', '5.4']]\n",
      "DHT11\n",
      "['capteur', 'DHT11']\n",
      "['tPiRcTemp5C24j2M12' 'DHT11' 'Salle215' '18.9' '76' '5.4']\n"
     ]
    }
   ],
   "source": [
    "import re\n",
    "import numpy as np\n",
    "\n",
    "trame = \"https://carnus.fr/post-esp-data.php?api=tPiRcTemp5C24j2M12&capteur=DHT11&localisation=Salle215&valeur1=18.9&valeur2=76&valeur3=5.4\"\n",
    "print(\"Trame originale :\",trame)\n",
    "\n",
    "liste = re.split(\"[?]+\", trame)\n",
    "print(\"liste :\",liste)\n",
    "listeUtile = liste[1]\n",
    "print(\"liste utile :\",listeUtile)\n",
    "\n",
    "print(\"\")\n",
    "\n",
    "contenu = re.split(\"[&]+\", listeUtile)\n",
    "print(\"Le contenu :\",contenu)\n",
    "print(type(contenu))\n",
    "\n",
    "for cont in contenu:\n",
    "    print(cont)\n",
    "\n",
    "for i in range(len(contenu)):\n",
    "    print(\"Le contenu d'index\", i, \"est\", contenu[i])    \n",
    "    \n",
    "for index, element in enumerate(contenu):\n",
    "    print(index, \":\", element)\n",
    "\n",
    "listes=[]\n",
    "for i in range(len(contenu)):\n",
    "    listes.append(re.split(\"[=]+\", contenu[i]))\n",
    "    x = listes[i]\n",
    "    print(x)\n",
    "\n",
    "print(listes)\n",
    "capteur = listes[1][1]\n",
    "print(capteur)\n",
    "capteurEtNom = listes[1][:]\n",
    "print(capteurEtNom)\n",
    "\n",
    "val = np.array(listes)\n",
    "valeurs = val[:,-1]\n",
    "print(valeurs)"
   ]
  },
  {
   "cell_type": "markdown",
   "id": "e8facc13-07eb-46ae-989b-f9eecd9ab65e",
   "metadata": {},
   "source": [
    "---\n",
    "## Exercice 1\n",
    "\n",
    "A partir de cette trame : \\\n",
    "`https://api.openweathermap.org/data/2.5/forecast?lat=44.35&lon=2.57&appid=f3232c425c56a24174dd4afc5528a&lang=fr&units=metric`\n",
    "\n",
    "Extraire les informations suivantes :\n",
    "- Le site internet de l'application\n",
    "- La latitude\n",
    "- La longitude\n",
    "- Le système d'unité utilisé\n",
    "- La langue d'affichage"
   ]
  },
  {
   "cell_type": "code",
   "execution_count": null,
   "id": "23aeae4f-64b0-43b9-a1d4-20fc42173591",
   "metadata": {},
   "outputs": [],
   "source": []
  },
  {
   "cell_type": "markdown",
   "id": "6406de85-2bd6-4871-a48e-aa1a7e897c68",
   "metadata": {},
   "source": [
    "---\n",
    "## Exercice 2\n",
    "\n",
    "Le code PHP à exécuter se trouve dans un répertoire défini comme suit :\n",
    "\n",
    "\n",
    "```\n",
    "📦 XAMPP\n",
    "┗ 📂 htdocs\n",
    "   ┗ 📂 Domotique\n",
    "      ┣ 📜 acquisition.php\n",
    "      ┣ 📜 config.php\n",
    "      ┣ 📂 sty\n",
    "      ┃  ┗ 📜 style.css\n",
    "      ┣ 📂 img\n",
    "      ┃  ┣ 🖼 img1.png\n",
    "      ┃  ┗ 🖼 img2.jpg\n",
    "      ┣ 📂 sql\n",
    "      ┗  ┗ 📜 bdd.sql\n",
    "```\n",
    "\n",
    "Créer une trame à partir des données suivantes :\n",
    "\n",
    "- code : acquisition.php\n",
    "- capteur n° : 1, valeur : 2.25\n",
    "- capteur n° : 2, valeur : -5.3\n"
   ]
  },
  {
   "cell_type": "code",
   "execution_count": null,
   "id": "26f24b89-8752-4116-9e1c-831954c179bf",
   "metadata": {},
   "outputs": [],
   "source": []
  }
 ],
 "metadata": {
  "kernelspec": {
   "display_name": "Python 3 (ipykernel)",
   "language": "python",
   "name": "python3"
  },
  "language_info": {
   "codemirror_mode": {
    "name": "ipython",
    "version": 3
   },
   "file_extension": ".py",
   "mimetype": "text/x-python",
   "name": "python",
   "nbconvert_exporter": "python",
   "pygments_lexer": "ipython3",
   "version": "3.12.7"
  }
 },
 "nbformat": 4,
 "nbformat_minor": 5
}
